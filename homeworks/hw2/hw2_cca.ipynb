{
 "metadata": {
  "name": "",
  "signature": "sha256:ea6f7dd39c83e6ad6ec2a2253137ee65feb143861116ce0b92a21a928cd9c338"
 },
 "nbformat": 3,
 "nbformat_minor": 0,
 "worksheets": [
  {
   "cells": [
    {
     "cell_type": "code",
     "collapsed": false,
     "input": [
      "# Standard imports for data analysis packages in Python\n",
      "import pandas as pd\n",
      "import numpy as np\n",
      "import seaborn as sns  # for pretty layout of plots\n",
      "import matplotlib.pyplot as plt\n",
      "from pprint import pprint  # for pretty printing\n",
      "from pandas.tools.plotting import scatter_matrix #scatter matrix plot\n",
      "from sklearn.cross_validation import train_test_split\n",
      "from sklearn.svm import SVC, LinearSVC\n",
      "from sklearn.linear_model import LogisticRegression\n",
      "from sklearn.grid_search import GridSearchCV\n",
      "from sklearn.metrics import confusion_matrix, classification_report\n",
      "import random\n",
      "import scipy.stats\n",
      "\n",
      "# This enables inline Plots\n",
      "%matplotlib inline"
     ],
     "language": "python",
     "metadata": {},
     "outputs": [],
     "prompt_number": 114
    },
    {
     "cell_type": "code",
     "collapsed": false,
     "input": [
      "# Read data from data file\n",
      "crx = pd.read_csv('crx.data', parse_dates=True)"
     ],
     "language": "python",
     "metadata": {},
     "outputs": [],
     "prompt_number": 7
    },
    {
     "cell_type": "code",
     "collapsed": false,
     "input": [
      "# first check out some sample values\n",
      "crx.head(5)"
     ],
     "language": "python",
     "metadata": {},
     "outputs": [
      {
       "html": [
        "<div style=\"max-height:1000px;max-width:1500px;overflow:auto;\">\n",
        "<table border=\"1\" class=\"dataframe\">\n",
        "  <thead>\n",
        "    <tr style=\"text-align: right;\">\n",
        "      <th></th>\n",
        "      <th>b</th>\n",
        "      <th>30.83</th>\n",
        "      <th>0</th>\n",
        "      <th>u</th>\n",
        "      <th>g</th>\n",
        "      <th>w</th>\n",
        "      <th>v</th>\n",
        "      <th>1.25</th>\n",
        "      <th>t</th>\n",
        "      <th>t.1</th>\n",
        "      <th>01</th>\n",
        "      <th>f</th>\n",
        "      <th>g.1</th>\n",
        "      <th>00202</th>\n",
        "      <th>0.1</th>\n",
        "      <th>+</th>\n",
        "    </tr>\n",
        "  </thead>\n",
        "  <tbody>\n",
        "    <tr>\n",
        "      <th>0</th>\n",
        "      <td> a</td>\n",
        "      <td> 58.67</td>\n",
        "      <td> 4.460</td>\n",
        "      <td> u</td>\n",
        "      <td> g</td>\n",
        "      <td> q</td>\n",
        "      <td> h</td>\n",
        "      <td> 3.04</td>\n",
        "      <td> t</td>\n",
        "      <td> t</td>\n",
        "      <td> 6</td>\n",
        "      <td> f</td>\n",
        "      <td> g</td>\n",
        "      <td> 00043</td>\n",
        "      <td> 560</td>\n",
        "      <td> +</td>\n",
        "    </tr>\n",
        "    <tr>\n",
        "      <th>1</th>\n",
        "      <td> a</td>\n",
        "      <td> 24.50</td>\n",
        "      <td> 0.500</td>\n",
        "      <td> u</td>\n",
        "      <td> g</td>\n",
        "      <td> q</td>\n",
        "      <td> h</td>\n",
        "      <td> 1.50</td>\n",
        "      <td> t</td>\n",
        "      <td> f</td>\n",
        "      <td> 0</td>\n",
        "      <td> f</td>\n",
        "      <td> g</td>\n",
        "      <td> 00280</td>\n",
        "      <td> 824</td>\n",
        "      <td> +</td>\n",
        "    </tr>\n",
        "    <tr>\n",
        "      <th>2</th>\n",
        "      <td> b</td>\n",
        "      <td> 27.83</td>\n",
        "      <td> 1.540</td>\n",
        "      <td> u</td>\n",
        "      <td> g</td>\n",
        "      <td> w</td>\n",
        "      <td> v</td>\n",
        "      <td> 3.75</td>\n",
        "      <td> t</td>\n",
        "      <td> t</td>\n",
        "      <td> 5</td>\n",
        "      <td> t</td>\n",
        "      <td> g</td>\n",
        "      <td> 00100</td>\n",
        "      <td>   3</td>\n",
        "      <td> +</td>\n",
        "    </tr>\n",
        "    <tr>\n",
        "      <th>3</th>\n",
        "      <td> b</td>\n",
        "      <td> 20.17</td>\n",
        "      <td> 5.625</td>\n",
        "      <td> u</td>\n",
        "      <td> g</td>\n",
        "      <td> w</td>\n",
        "      <td> v</td>\n",
        "      <td> 1.71</td>\n",
        "      <td> t</td>\n",
        "      <td> f</td>\n",
        "      <td> 0</td>\n",
        "      <td> f</td>\n",
        "      <td> s</td>\n",
        "      <td> 00120</td>\n",
        "      <td>   0</td>\n",
        "      <td> +</td>\n",
        "    </tr>\n",
        "    <tr>\n",
        "      <th>4</th>\n",
        "      <td> b</td>\n",
        "      <td> 32.08</td>\n",
        "      <td> 4.000</td>\n",
        "      <td> u</td>\n",
        "      <td> g</td>\n",
        "      <td> m</td>\n",
        "      <td> v</td>\n",
        "      <td> 2.50</td>\n",
        "      <td> t</td>\n",
        "      <td> f</td>\n",
        "      <td> 0</td>\n",
        "      <td> t</td>\n",
        "      <td> g</td>\n",
        "      <td> 00360</td>\n",
        "      <td>   0</td>\n",
        "      <td> +</td>\n",
        "    </tr>\n",
        "  </tbody>\n",
        "</table>\n",
        "</div>"
       ],
       "metadata": {},
       "output_type": "pyout",
       "prompt_number": 42,
       "text": [
        "   b  30.83      0  u  g  w  v  1.25  t t.1  01  f g.1  00202  0.1  +\n",
        "0  a  58.67  4.460  u  g  q  h  3.04  t   t   6  f   g  00043  560  +\n",
        "1  a  24.50  0.500  u  g  q  h  1.50  t   f   0  f   g  00280  824  +\n",
        "2  b  27.83  1.540  u  g  w  v  3.75  t   t   5  t   g  00100    3  +\n",
        "3  b  20.17  5.625  u  g  w  v  1.71  t   f   0  f   s  00120    0  +\n",
        "4  b  32.08  4.000  u  g  m  v  2.50  t   f   0  t   g  00360    0  +"
       ]
      }
     ],
     "prompt_number": 42
    },
    {
     "cell_type": "code",
     "collapsed": false,
     "input": [
      "# next see the info \n",
      "crx.info()"
     ],
     "language": "python",
     "metadata": {},
     "outputs": [
      {
       "output_type": "stream",
       "stream": "stdout",
       "text": [
        "<class 'pandas.core.frame.DataFrame'>\n",
        "Int64Index: 689 entries, 0 to 688\n",
        "Data columns (total 16 columns):\n",
        "b        689 non-null object\n",
        "30.83    689 non-null object\n",
        "0        689 non-null float64\n",
        "u        689 non-null object\n",
        "g        689 non-null object\n",
        "w        689 non-null object\n",
        "v        689 non-null object\n",
        "1.25     689 non-null float64\n",
        "t        689 non-null object\n",
        "t.1      689 non-null object\n",
        "01       689 non-null int64\n",
        "f        689 non-null object\n",
        "g.1      689 non-null object\n",
        "00202    689 non-null object\n",
        "0.1      689 non-null int64\n",
        "+        689 non-null object\n",
        "dtypes: float64(2), int64(2), object(12)\n",
        "memory usage: 91.5+ KB\n"
       ]
      }
     ],
     "prompt_number": 3
    },
    {
     "cell_type": "code",
     "collapsed": false,
     "input": [
      "# Replace '?' character with python \"nan\"\n",
      "crx.replace(to_replace='?', value=float(\"nan\"), inplace=True)\n",
      "crx.info()"
     ],
     "language": "python",
     "metadata": {},
     "outputs": [
      {
       "output_type": "stream",
       "stream": "stdout",
       "text": [
        "<class 'pandas.core.frame.DataFrame'>\n",
        "Int64Index: 689 entries, 0 to 688\n",
        "Data columns (total 16 columns):\n",
        "b        677 non-null object\n",
        "30.83    677 non-null object\n",
        "0        689 non-null float64\n",
        "u        683 non-null object\n",
        "g        683 non-null object\n",
        "w        680 non-null object\n",
        "v        680 non-null object\n",
        "1.25     689 non-null float64\n",
        "t        689 non-null object\n",
        "t.1      689 non-null object\n",
        "01       689 non-null int64\n",
        "f        689 non-null object\n",
        "g.1      689 non-null object\n",
        "00202    676 non-null object\n",
        "0.1      689 non-null int64\n",
        "+        689 non-null object\n",
        "dtypes: float64(2), int64(2), object(12)\n",
        "memory usage: 91.5+ KB\n"
       ]
      }
     ],
     "prompt_number": 8
    },
    {
     "cell_type": "code",
     "collapsed": false,
     "input": [
      "# Change the column names to something more easy to work with\n",
      "crx.columns = ['a', 'b', 'c', 'd', 'e', 'f', 'g', 'h', 'i', 'j', 'k', 'l', 'm', 'n', 'o', 'approved']"
     ],
     "language": "python",
     "metadata": {},
     "outputs": [],
     "prompt_number": 9
    },
    {
     "cell_type": "code",
     "collapsed": false,
     "input": [
      "# The 2nd column is contains floats but are stored as objects. Convert them to float\n",
      "a = crx['b'].map(lambda x: float(x))\n",
      "crx['b'] = a"
     ],
     "language": "python",
     "metadata": {},
     "outputs": [],
     "prompt_number": 10
    },
    {
     "cell_type": "code",
     "collapsed": false,
     "input": [
      "# Column n is described as being a contiuous. Thus we convert to float\n",
      "n = crx['n'].map(lambda x: float(x))\n",
      "crx['n'] = n"
     ],
     "language": "python",
     "metadata": {},
     "outputs": [],
     "prompt_number": 11
    },
    {
     "cell_type": "code",
     "collapsed": false,
     "input": [
      "# the description of numerical data\n",
      "crx.describe()"
     ],
     "language": "python",
     "metadata": {},
     "outputs": [
      {
       "html": [
        "<div style=\"max-height:1000px;max-width:1500px;overflow:auto;\">\n",
        "<table border=\"1\" class=\"dataframe\">\n",
        "  <thead>\n",
        "    <tr style=\"text-align: right;\">\n",
        "      <th></th>\n",
        "      <th>b</th>\n",
        "      <th>c</th>\n",
        "      <th>h</th>\n",
        "      <th>k</th>\n",
        "      <th>n</th>\n",
        "      <th>o</th>\n",
        "    </tr>\n",
        "  </thead>\n",
        "  <tbody>\n",
        "    <tr>\n",
        "      <th>count</th>\n",
        "      <td> 689.000000</td>\n",
        "      <td> 689.000000</td>\n",
        "      <td> 689.000000</td>\n",
        "      <td> 689.000000</td>\n",
        "      <td>  689.000000</td>\n",
        "      <td>    689.000000</td>\n",
        "    </tr>\n",
        "    <tr>\n",
        "      <th>mean</th>\n",
        "      <td>  31.466843</td>\n",
        "      <td>   4.765631</td>\n",
        "      <td>   2.224819</td>\n",
        "      <td>   2.402032</td>\n",
        "      <td>  184.068215</td>\n",
        "      <td>   1018.862119</td>\n",
        "    </tr>\n",
        "    <tr>\n",
        "      <th>std</th>\n",
        "      <td>  11.945495</td>\n",
        "      <td>   4.978470</td>\n",
        "      <td>   3.348739</td>\n",
        "      <td>   4.866180</td>\n",
        "      <td>  173.745260</td>\n",
        "      <td>   5213.743149</td>\n",
        "    </tr>\n",
        "    <tr>\n",
        "      <th>min</th>\n",
        "      <td>  12.305865</td>\n",
        "      <td>   0.000000</td>\n",
        "      <td>   0.000000</td>\n",
        "      <td>   0.000000</td>\n",
        "      <td>  -31.000000</td>\n",
        "      <td>      0.000000</td>\n",
        "    </tr>\n",
        "    <tr>\n",
        "      <th>25%</th>\n",
        "      <td>  22.580000</td>\n",
        "      <td>   1.000000</td>\n",
        "      <td>   0.165000</td>\n",
        "      <td>   0.000000</td>\n",
        "      <td>   73.000000</td>\n",
        "      <td>      0.000000</td>\n",
        "    </tr>\n",
        "    <tr>\n",
        "      <th>50%</th>\n",
        "      <td>  28.330000</td>\n",
        "      <td>   2.750000</td>\n",
        "      <td>   1.000000</td>\n",
        "      <td>   0.000000</td>\n",
        "      <td>  160.000000</td>\n",
        "      <td>      5.000000</td>\n",
        "    </tr>\n",
        "    <tr>\n",
        "      <th>75%</th>\n",
        "      <td>  38.170000</td>\n",
        "      <td>   7.250000</td>\n",
        "      <td>   2.625000</td>\n",
        "      <td>   3.000000</td>\n",
        "      <td>  280.000000</td>\n",
        "      <td>    396.000000</td>\n",
        "    </tr>\n",
        "    <tr>\n",
        "      <th>max</th>\n",
        "      <td>  80.250000</td>\n",
        "      <td>  28.000000</td>\n",
        "      <td>  28.500000</td>\n",
        "      <td>  67.000000</td>\n",
        "      <td> 2000.000000</td>\n",
        "      <td> 100000.000000</td>\n",
        "    </tr>\n",
        "  </tbody>\n",
        "</table>\n",
        "</div>"
       ],
       "metadata": {},
       "output_type": "pyout",
       "prompt_number": 28,
       "text": [
        "                b           c           h           k            n  \\\n",
        "count  689.000000  689.000000  689.000000  689.000000   689.000000   \n",
        "mean    31.466843    4.765631    2.224819    2.402032   184.068215   \n",
        "std     11.945495    4.978470    3.348739    4.866180   173.745260   \n",
        "min     12.305865    0.000000    0.000000    0.000000   -31.000000   \n",
        "25%     22.580000    1.000000    0.165000    0.000000    73.000000   \n",
        "50%     28.330000    2.750000    1.000000    0.000000   160.000000   \n",
        "75%     38.170000    7.250000    2.625000    3.000000   280.000000   \n",
        "max     80.250000   28.000000   28.500000   67.000000  2000.000000   \n",
        "\n",
        "                   o  \n",
        "count     689.000000  \n",
        "mean     1018.862119  \n",
        "std      5213.743149  \n",
        "min         0.000000  \n",
        "25%         0.000000  \n",
        "50%         5.000000  \n",
        "75%       396.000000  \n",
        "max    100000.000000  "
       ]
      }
     ],
     "prompt_number": 28
    },
    {
     "cell_type": "markdown",
     "metadata": {},
     "source": [
      "##Part 1 - Impute Missing Data"
     ]
    },
    {
     "cell_type": "markdown",
     "metadata": {},
     "source": [
      "  Missing Attribute Values:\n",
      "    37 cases (5%) have one or more missing values.  The missing\n",
      "    values from particular attributes are:\n",
      "\n",
      "    A1:  12\n",
      "    A2:  12\n",
      "    A4:   6\n",
      "    A5:   6\n",
      "    A6:   9\n",
      "    A7:   9\n",
      "    A14: 13\n",
      "    \n",
      "  Attribute Information:\n",
      "\n",
      "    A1:\tb, a.\n",
      "    A2:\tcontinuous.\n",
      "    A3:\tcontinuous.\n",
      "    A4:\tu, y, l, t.\n",
      "    A5:\tg, p, gg.\n",
      "    A6:\tc, d, cc, i, j, k, m, r, q, w, x, e, aa, ff.\n",
      "    A7:\tv, h, bb, j, n, z, dd, ff, o.\n",
      "    A8:\tcontinuous.\n",
      "    A9:\tt, f.\n",
      "    A10:\tt, f.\n",
      "    A11:\tcontinuous.\n",
      "    A12:\tt, f.\n",
      "    A13:\tg, p, s.\n",
      "    A14:\tcontinuous.\n",
      "    A15:\tcontinuous.\n",
      "    A16: +,-         (class attribute)"
     ]
    },
    {
     "cell_type": "code",
     "collapsed": false,
     "input": [
      "# Impute each column that is missing data using the appropriate method\n",
      "# The first column \n",
      "a =  crx.b[crx.a == 'a'].count() \n",
      "b =  crx.b[crx.a == 'b'].count()\n",
      "print(float(a) / float(a + b))"
     ],
     "language": "python",
     "metadata": {},
     "outputs": [
      {
       "output_type": "stream",
       "stream": "stdout",
       "text": [
        "0.311278195489\n"
       ]
      }
     ],
     "prompt_number": 12
    },
    {
     "cell_type": "code",
     "collapsed": false,
     "input": [
      "# Roughtly 31% of the first column has the value 'a'\n",
      "# We want to create a function that returns value 'a' 31% of the time and value 'b' 79% of the time\n",
      "def get_a_impute_values():\n",
      "    my_values = ['a'] * 31 + ['b'] * 79\n",
      "    return random.choice(my_values)"
     ],
     "language": "python",
     "metadata": {},
     "outputs": [],
     "prompt_number": 13
    },
    {
     "cell_type": "code",
     "collapsed": false,
     "input": [
      "crx.loc[crx.a.isnull(), 'a'] = get_a_impute_values()"
     ],
     "language": "python",
     "metadata": {},
     "outputs": [],
     "prompt_number": 14
    },
    {
     "cell_type": "code",
     "collapsed": false,
     "input": [
      "# Create a Normal Distribution centered on Mean of 31.57 and Standard Dev of 11.97\n",
      "# Get 12 Entries since that's how many missing entries we have for column b\n",
      "def get_b_impute_values():\n",
      "    return np.random.normal(31.57, 11.97, 12)"
     ],
     "language": "python",
     "metadata": {},
     "outputs": [],
     "prompt_number": 15
    },
    {
     "cell_type": "code",
     "collapsed": false,
     "input": [
      "crx.loc[crx.b.isnull(), 'b'] = get_b_impute_values()"
     ],
     "language": "python",
     "metadata": {},
     "outputs": [],
     "prompt_number": 16
    },
    {
     "cell_type": "code",
     "collapsed": false,
     "input": [
      "# According to the attribute information, the 4th column has unqiue values u, y, l, t.\n",
      "# Based on this info, we can determine that the 6 missing values will be 't' since the values u, y \n",
      "# and l are all present in the dataset\n",
      "crx.loc[crx.d.isnull(), 'd'] = 't'"
     ],
     "language": "python",
     "metadata": {},
     "outputs": [],
     "prompt_number": 17
    },
    {
     "cell_type": "code",
     "collapsed": false,
     "input": [
      "# Get the counts of the distinct values in column e\n",
      "g = crx.e[crx.e == 'g'].count()\n",
      "p = crx.e[crx.e == 'p'].count()\n",
      "gg = crx.e[crx.e == 'gg'].count()\n",
      "print g, p, gg"
     ],
     "language": "python",
     "metadata": {},
     "outputs": [
      {
       "output_type": "stream",
       "stream": "stdout",
       "text": [
        "518 163 2\n"
       ]
      }
     ],
     "prompt_number": 18
    },
    {
     "cell_type": "code",
     "collapsed": false,
     "input": [
      "# Impute according to the chance of getting the above value\n",
      "def get_e_impute_values():\n",
      "    my_values = ['g'] * 518 + ['p'] * 163 + ['gg'] * 2\n",
      "    return random.choice(my_values)"
     ],
     "language": "python",
     "metadata": {},
     "outputs": [],
     "prompt_number": 20
    },
    {
     "cell_type": "code",
     "collapsed": false,
     "input": [
      "crx.loc[crx.e.isnull(), 'e'] = get_e_impute_values()"
     ],
     "language": "python",
     "metadata": {},
     "outputs": [],
     "prompt_number": 21
    },
    {
     "cell_type": "code",
     "collapsed": false,
     "input": [
      "# Since column f has a wide range of values, we can impute according to those set of values\n",
      "def get_f_impute_values():\n",
      "    my_values = ['aa', 'c', 'cc', 'd', 'e', 'ff', 'i', 'j', 'k', 'm', 'q', 'r', 'w', 'x']\n",
      "    return random.choice(my_values)"
     ],
     "language": "python",
     "metadata": {},
     "outputs": [],
     "prompt_number": 22
    },
    {
     "cell_type": "code",
     "collapsed": false,
     "input": [
      "# Imput and plot\n",
      "crx.loc[crx.f.isnull(), 'f'] = get_f_impute_values()\n",
      "crx.f.value_counts().plot(kind='bar')"
     ],
     "language": "python",
     "metadata": {},
     "outputs": [
      {
       "metadata": {},
       "output_type": "pyout",
       "prompt_number": 23,
       "text": [
        "<matplotlib.axes._subplots.AxesSubplot at 0x10a2efed0>"
       ]
      },
      {
       "metadata": {},
       "output_type": "display_data",
       "png": "[encoded data removed]",
       "text": [
        "<matplotlib.figure.Figure at 0x10a7bb950>"
       ]
      }
     ],
     "prompt_number": 23
    },
    {
     "cell_type": "code",
     "collapsed": false,
     "input": [
      "# Column g also has a wide range of values so we can impute the same way as we did in column f\n",
      "def get_g_impute_values():\n",
      "    my_values = ['v', 'h', 'bb', 'j', 'n', 'z', 'dd', 'ff', 'o']\n",
      "    return random.choice(my_values)"
     ],
     "language": "python",
     "metadata": {},
     "outputs": [],
     "prompt_number": 24
    },
    {
     "cell_type": "code",
     "collapsed": false,
     "input": [
      "crx.loc[crx.g.isnull(), 'g'] = get_g_impute_values()"
     ],
     "language": "python",
     "metadata": {},
     "outputs": [],
     "prompt_number": 25
    },
    {
     "cell_type": "code",
     "collapsed": false,
     "input": [
      "# Create a Normal Distribution centered on Mean of 183.99 and Standard Dev of 173.93\n",
      "# Get 13 Entries since that's how many missing entries we have for column n\n",
      "def get_n_impute_values():\n",
      "    return np.random.normal(183.99, 173.93, 13)"
     ],
     "language": "python",
     "metadata": {},
     "outputs": [],
     "prompt_number": 26
    },
    {
     "cell_type": "code",
     "collapsed": false,
     "input": [
      "crx.loc[crx.n.isnull(), 'n'] = get_n_impute_values()\n",
      "crx.info()"
     ],
     "language": "python",
     "metadata": {},
     "outputs": [
      {
       "output_type": "stream",
       "stream": "stdout",
       "text": [
        "<class 'pandas.core.frame.DataFrame'>\n",
        "Int64Index: 689 entries, 0 to 688\n",
        "Data columns (total 16 columns):\n",
        "a           689 non-null object\n",
        "b           689 non-null float64\n",
        "c           689 non-null float64\n",
        "d           689 non-null object\n",
        "e           689 non-null object\n",
        "f           689 non-null object\n",
        "g           689 non-null object\n",
        "h           689 non-null float64\n",
        "i           689 non-null object\n",
        "j           689 non-null object\n",
        "k           689 non-null int64\n",
        "l           689 non-null object\n",
        "m           689 non-null object\n",
        "n           689 non-null float64\n",
        "o           689 non-null int64\n",
        "approved    689 non-null object\n",
        "dtypes: float64(4), int64(2), object(10)\n",
        "memory usage: 91.5+ KB\n"
       ]
      }
     ],
     "prompt_number": 27
    },
    {
     "cell_type": "markdown",
     "metadata": {},
     "source": [
      "##Part 2 - Plot and visualize data to see any patterns"
     ]
    },
    {
     "cell_type": "code",
     "collapsed": false,
     "input": [
      "# lets plot the categorical columns a, d, e, f, g, i, j, l, m, approved\n",
      "crx.a.value_counts().plot(kind='bar')"
     ],
     "language": "python",
     "metadata": {},
     "outputs": [
      {
       "metadata": {},
       "output_type": "pyout",
       "prompt_number": 22,
       "text": [
        "<matplotlib.axes._subplots.AxesSubplot at 0x10a745690>"
       ]
      },
      {
       "metadata": {},
       "output_type": "display_data",
       "png": "[encoded data removed]",
       "text": [
        "<matplotlib.figure.Figure at 0x10a6e5a10>"
       ]
      }
     ],
     "prompt_number": 22
    },
    {
     "cell_type": "code",
     "collapsed": false,
     "input": [
      "crx.d.value_counts().plot(kind='bar')"
     ],
     "language": "python",
     "metadata": {},
     "outputs": [
      {
       "metadata": {},
       "output_type": "pyout",
       "prompt_number": 37,
       "text": [
        "<matplotlib.axes._subplots.AxesSubplot at 0x10db4ea50>"
       ]
      },
      {
       "metadata": {},
       "output_type": "display_data",
       "png": "[encoded data removed]",
       "text": [
        "<matplotlib.figure.Figure at 0x10db67910>"
       ]
      }
     ],
     "prompt_number": 37
    },
    {
     "cell_type": "code",
     "collapsed": false,
     "input": [
      "crx.e.value_counts().plot(kind='bar')"
     ],
     "language": "python",
     "metadata": {},
     "outputs": [
      {
       "metadata": {},
       "output_type": "pyout",
       "prompt_number": 41,
       "text": [
        "<matplotlib.axes._subplots.AxesSubplot at 0x10de48310>"
       ]
      },
      {
       "metadata": {},
       "output_type": "display_data",
       "png": "[encoded data removed]",
       "text": [
        "<matplotlib.figure.Figure at 0x10de80310>"
       ]
      }
     ],
     "prompt_number": 41
    },
    {
     "cell_type": "code",
     "collapsed": false,
     "input": [
      "crx.f.value_counts().plot(kind='bar')"
     ],
     "language": "python",
     "metadata": {},
     "outputs": [
      {
       "metadata": {},
       "output_type": "pyout",
       "prompt_number": 46,
       "text": [
        "<matplotlib.axes._subplots.AxesSubplot at 0x10e6a9110>"
       ]
      },
      {
       "metadata": {},
       "output_type": "display_data",
       "png": "[encoded data removed]",
       "text": [
        "<matplotlib.figure.Figure at 0x10e6b1650>"
       ]
      }
     ],
     "prompt_number": 46
    },
    {
     "cell_type": "code",
     "collapsed": false,
     "input": [
      "crx.g.value_counts().plot(kind='bar')"
     ],
     "language": "python",
     "metadata": {},
     "outputs": [
      {
       "metadata": {},
       "output_type": "pyout",
       "prompt_number": 47,
       "text": [
        "<matplotlib.axes._subplots.AxesSubplot at 0x10e798e50>"
       ]
      },
      {
       "metadata": {},
       "output_type": "display_data",
       "png": "[encoded data removed]",
       "text": [
        "<matplotlib.figure.Figure at 0x10e39a950>"
       ]
      }
     ],
     "prompt_number": 47
    },
    {
     "cell_type": "code",
     "collapsed": false,
     "input": [
      "crx.i.value_counts().plot(kind='bar')"
     ],
     "language": "python",
     "metadata": {},
     "outputs": [
      {
       "metadata": {},
       "output_type": "pyout",
       "prompt_number": 54,
       "text": [
        "<matplotlib.axes._subplots.AxesSubplot at 0x1104a5510>"
       ]
      },
      {
       "metadata": {},
       "output_type": "display_data",
       "png": "[encoded data removed]",
       "text": [
        "<matplotlib.figure.Figure at 0x1104b7690>"
       ]
      }
     ],
     "prompt_number": 54
    },
    {
     "cell_type": "code",
     "collapsed": false,
     "input": [
      "crx.j.value_counts().plot(kind='bar')"
     ],
     "language": "python",
     "metadata": {},
     "outputs": [
      {
       "metadata": {},
       "output_type": "pyout",
       "prompt_number": 55,
       "text": [
        "<matplotlib.axes._subplots.AxesSubplot at 0x1105c4fd0>"
       ]
      },
      {
       "metadata": {},
       "output_type": "display_data",
       "png": "[encoded data removed]",
       "text": [
        "<matplotlib.figure.Figure at 0x110766350>"
       ]
      }
     ],
     "prompt_number": 55
    },
    {
     "cell_type": "code",
     "collapsed": false,
     "input": [
      "crx.l.value_counts().plot(kind='bar')"
     ],
     "language": "python",
     "metadata": {},
     "outputs": [
      {
       "metadata": {},
       "output_type": "pyout",
       "prompt_number": 56,
       "text": [
        "<matplotlib.axes._subplots.AxesSubplot at 0x1108114d0>"
       ]
      },
      {
       "metadata": {},
       "output_type": "display_data",
       "png": "[encoded data removed]",
       "text": [
        "<matplotlib.figure.Figure at 0x1108ce290>"
       ]
      }
     ],
     "prompt_number": 56
    },
    {
     "cell_type": "code",
     "collapsed": false,
     "input": [
      "crx.m.value_counts().plot(kind='bar')"
     ],
     "language": "python",
     "metadata": {},
     "outputs": [
      {
       "metadata": {},
       "output_type": "pyout",
       "prompt_number": 57,
       "text": [
        "<matplotlib.axes._subplots.AxesSubplot at 0x11090aed0>"
       ]
      },
      {
       "metadata": {},
       "output_type": "display_data",
       "png": "[encoded data removed]",
       "text": [
        "<matplotlib.figure.Figure at 0x110915290>"
       ]
      }
     ],
     "prompt_number": 57
    },
    {
     "cell_type": "code",
     "collapsed": false,
     "input": [
      "# looking at the distrubtion of x values, it looks like column b could be the age of the participant\n",
      "crx.b.hist()"
     ],
     "language": "python",
     "metadata": {},
     "outputs": [
      {
       "metadata": {},
       "output_type": "pyout",
       "prompt_number": 33,
       "text": [
        "<matplotlib.axes._subplots.AxesSubplot at 0x10d71a750>"
       ]
      },
      {
       "metadata": {},
       "output_type": "display_data",
       "png": "[encoded data removed]",
       "text": [
        "<matplotlib.figure.Figure at 0x10d724690>"
       ]
      }
     ],
     "prompt_number": 33
    },
    {
     "cell_type": "code",
     "collapsed": false,
     "input": [
      "# b, c, h, k, n, o\n",
      "crx.plot(kind='scatter', x='b', y='k')\n",
      "#scipy.stats.pointbiserialr(crx.b, crx.a)"
     ],
     "language": "python",
     "metadata": {},
     "outputs": [
      {
       "metadata": {},
       "output_type": "pyout",
       "prompt_number": 145,
       "text": [
        "<matplotlib.axes._subplots.AxesSubplot at 0x10ab40090>"
       ]
      },
      {
       "metadata": {},
       "output_type": "display_data",
       "png": "[encoded data removed]",
       "text": [
        "<matplotlib.figure.Figure at 0x10c47b7d0>"
       ]
      }
     ],
     "prompt_number": 145
    },
    {
     "cell_type": "code",
     "collapsed": false,
     "input": [
      "scatter_matrix(crx, alpha=0.2, figsize=(6, 6), diagonal='kde')"
     ],
     "language": "python",
     "metadata": {},
     "outputs": [
      {
       "metadata": {},
       "output_type": "pyout",
       "prompt_number": 24,
       "text": [
        "array([[<matplotlib.axes._subplots.AxesSubplot object at 0x10a5046d0>,\n",
        "        <matplotlib.axes._subplots.AxesSubplot object at 0x10a5ff610>,\n",
        "        <matplotlib.axes._subplots.AxesSubplot object at 0x10a618ed0>,\n",
        "        <matplotlib.axes._subplots.AxesSubplot object at 0x10a6f1190>,\n",
        "        <matplotlib.axes._subplots.AxesSubplot object at 0x10a773310>,\n",
        "        <matplotlib.axes._subplots.AxesSubplot object at 0x10a7d73d0>],\n",
        "       [<matplotlib.axes._subplots.AxesSubplot object at 0x10a858710>,\n",
        "        <matplotlib.axes._subplots.AxesSubplot object at 0x10a8a4d90>,\n",
        "        <matplotlib.axes._subplots.AxesSubplot object at 0x10a941110>,\n",
        "        <matplotlib.axes._subplots.AxesSubplot object at 0x10a9b6f10>,\n",
        "        <matplotlib.axes._subplots.AxesSubplot object at 0x10ab54990>,\n",
        "        <matplotlib.axes._subplots.AxesSubplot object at 0x10abd8cd0>],\n",
        "       [<matplotlib.axes._subplots.AxesSubplot object at 0x10ac3d790>,\n",
        "        <matplotlib.axes._subplots.AxesSubplot object at 0x10acbfad0>,\n",
        "        <matplotlib.axes._subplots.AxesSubplot object at 0x10ac75710>,\n",
        "        <matplotlib.axes._subplots.AxesSubplot object at 0x10adb2450>,\n",
        "        <matplotlib.axes._subplots.AxesSubplot object at 0x10af32690>,\n",
        "        <matplotlib.axes._subplots.AxesSubplot object at 0x10af97910>],\n",
        "       [<matplotlib.axes._subplots.AxesSubplot object at 0x10b019c50>,\n",
        "        <matplotlib.axes._subplots.AxesSubplot object at 0x10b0743d0>,\n",
        "        <matplotlib.axes._subplots.AxesSubplot object at 0x10b103510>,\n",
        "        <matplotlib.axes._subplots.AxesSubplot object at 0x10b187350>,\n",
        "        <matplotlib.axes._subplots.AxesSubplot object at 0x10b1f5150>,\n",
        "        <matplotlib.axes._subplots.AxesSubplot object at 0x10b3782d0>],\n",
        "       [<matplotlib.axes._subplots.AxesSubplot object at 0x10b3d0d90>,\n",
        "        <matplotlib.axes._subplots.AxesSubplot object at 0x10b45f110>,\n",
        "        <matplotlib.axes._subplots.AxesSubplot object at 0x10b409b50>,\n",
        "        <matplotlib.axes._subplots.AxesSubplot object at 0x10b72ead0>,\n",
        "        <matplotlib.axes._subplots.AxesSubplot object at 0x10b7b1810>,\n",
        "        <matplotlib.axes._subplots.AxesSubplot object at 0x10b817610>],\n",
        "       [<matplotlib.axes._subplots.AxesSubplot object at 0x10b8985d0>,\n",
        "        <matplotlib.axes._subplots.AxesSubplot object at 0x10b846a90>,\n",
        "        <matplotlib.axes._subplots.AxesSubplot object at 0x10b98c210>,\n",
        "        <matplotlib.axes._subplots.AxesSubplot object at 0x10ba0e390>,\n",
        "        <matplotlib.axes._subplots.AxesSubplot object at 0x10ba72890>,\n",
        "        <matplotlib.axes._subplots.AxesSubplot object at 0x10baf46d0>]], dtype=object)"
       ]
      },
      {
       "metadata": {},
       "output_type": "display_data",
       "png": "[encoded data removed]",
       "text": [
        "<matplotlib.figure.Figure at 0x10a3b0f10>"
       ]
      }
     ],
     "prompt_number": 24
    },
    {
     "cell_type": "markdown",
     "metadata": {},
     "source": [
      "##Part 3 - Build Models using Logistics Regression and SVM"
     ]
    },
    {
     "cell_type": "code",
     "collapsed": false,
     "input": [
      "# convert true/false and dichotomous columns to 0s and 1s\n",
      "\n",
      "crx.loc[crx.a == 'a', 'a'] = 1\n",
      "crx.loc[crx.a == 'b', 'a'] = 0\n",
      "\n",
      "crx.loc[crx.i == 't', 'i'] = 1\n",
      "crx.loc[crx.i == 'f', 'i'] = 0\n",
      "\n",
      "crx.loc[crx.j == 't', 'j'] = 1\n",
      "crx.loc[crx.j == 'f', 'j'] = 0\n",
      "\n",
      "crx.loc[crx.l == 't', 'l'] = 1\n",
      "crx.loc[crx.l == 'f', 'l'] = 0\n",
      "\n",
      "crx.loc[crx.approved == '+', 'approved'] = 1\n",
      "crx.loc[crx.approved == '-', 'approved'] = 0"
     ],
     "language": "python",
     "metadata": {},
     "outputs": [],
     "prompt_number": 28
    },
    {
     "cell_type": "code",
     "collapsed": false,
     "input": [
      "# create dummies\n",
      "dummies = pd.get_dummies(crx[['d', 'e', 'f', 'g', 'm']])\n",
      "crx_dummies = crx.join(dummies)\n",
      "to_split = crx_dummies.drop(['d', 'e', 'f', 'g', 'm'], axis=1)"
     ],
     "language": "python",
     "metadata": {},
     "outputs": [],
     "prompt_number": 30
    },
    {
     "cell_type": "code",
     "collapsed": false,
     "input": [
      "# Convert objects to float\n",
      "a = to_split['a'].map(lambda x: float(x))\n",
      "to_split.a = a\n",
      "\n",
      "i = to_split['i'].map(lambda x: float(x))\n",
      "to_split.i = i \n",
      "\n",
      "j = to_split['j'].map(lambda x: float(x))\n",
      "to_split.j = j\n",
      "\n",
      "l = to_split['l'].map(lambda x: float(x))\n",
      "to_split.l = l \n",
      "\n",
      "approved = to_split['approved'].map(lambda x: float(x))\n",
      "to_split.approved = approved"
     ],
     "language": "python",
     "metadata": {},
     "outputs": [],
     "prompt_number": 146
    },
    {
     "cell_type": "code",
     "collapsed": false,
     "input": [
      "# create a train/test split with .3 testing size\n",
      "y = to_split.approved\n",
      "data = to_split.drop('approved', axis=1)\n",
      "X_train, X_test, y_train, y_test = train_test_split(data, y, test_size=0.3)"
     ],
     "language": "python",
     "metadata": {},
     "outputs": [],
     "prompt_number": 152
    },
    {
     "cell_type": "code",
     "collapsed": false,
     "input": [
      "# Logistic Regression\n",
      "clf = LogisticRegression()\n",
      "clf.fit(X_train, y_train)\n",
      "clf.score(X_test, y_test)"
     ],
     "language": "python",
     "metadata": {},
     "outputs": [
      {
       "metadata": {},
       "output_type": "pyout",
       "prompt_number": 148,
       "text": [
        "0.88405797101449279"
       ]
      }
     ],
     "prompt_number": 148
    },
    {
     "cell_type": "code",
     "collapsed": false,
     "input": [
      "# SVM\n",
      "#initialize C=1e-3 and fit the model\n",
      "SVM = SVC(C=1e-3, kernel='rbf')\n",
      "SVM.fit(X_train, y_train)\n",
      "SVM.score(X_test, y_test)"
     ],
     "language": "python",
     "metadata": {},
     "outputs": [
      {
       "metadata": {},
       "output_type": "pyout",
       "prompt_number": 149,
       "text": [
        "0.60386473429951693"
       ]
      }
     ],
     "prompt_number": 149
    },
    {
     "cell_type": "code",
     "collapsed": false,
     "input": [
      "# SVM \n",
      "# Try the linear kernel instead\n",
      "l_SVM = SVC(C=1e-3, kernel='linear')\n",
      "l_SVM.fit(X_train, y_train)\n",
      "l_SVM.score(X_test, y_test)"
     ],
     "language": "python",
     "metadata": {},
     "outputs": [
      {
       "metadata": {},
       "output_type": "pyout",
       "prompt_number": 153,
       "text": [
        "0.77294685990338163"
       ]
      }
     ],
     "prompt_number": 153
    },
    {
     "cell_type": "markdown",
     "metadata": {},
     "source": [
      "##Part 4 - Use Grid Search to evaluate model parameters "
     ]
    },
    {
     "cell_type": "code",
     "collapsed": false,
     "input": [
      "d= {'C': [0,2,1]}\n",
      "d['C'] = np.logspace(-3, 3, 10)\n",
      "\n",
      "gds = GridSearchCV(LinearSVC(), d)"
     ],
     "language": "python",
     "metadata": {},
     "outputs": [],
     "prompt_number": 158
    },
    {
     "cell_type": "code",
     "collapsed": false,
     "input": [
      "fitted = gds.fit(X_train, y_train)"
     ],
     "language": "python",
     "metadata": {},
     "outputs": [],
     "prompt_number": 159
    },
    {
     "cell_type": "code",
     "collapsed": false,
     "input": [
      "print fitted.best_score_\n",
      "print fitted.best_params_\n",
      "print fitted.best_estimator_\n",
      "print fitted.score(X_test, y_test)"
     ],
     "language": "python",
     "metadata": {},
     "outputs": [
      {
       "output_type": "stream",
       "stream": "stdout",
       "text": [
        "0.798755186722\n",
        "{'C': 1000.0}\n",
        "LinearSVC(C=1000.0, class_weight=None, dual=True, fit_intercept=True,\n",
        "     intercept_scaling=1, loss='l2', multi_class='ovr', penalty='l2',\n",
        "     random_state=None, tol=0.0001, verbose=0)\n",
        "0.845410628019\n"
       ]
      }
     ],
     "prompt_number": 160
    },
    {
     "cell_type": "markdown",
     "metadata": {},
     "source": [
      "##Part 5 - Build a Confusion Matrix to show how well your prediction did"
     ]
    },
    {
     "cell_type": "code",
     "collapsed": false,
     "input": [
      "y_pred = clf.predict(X_test)"
     ],
     "language": "python",
     "metadata": {},
     "outputs": [],
     "prompt_number": 127
    },
    {
     "cell_type": "code",
     "collapsed": false,
     "input": [
      "# Confusion Matrix for Type 1 and Type 2 Error\n",
      "confusion_matrix(y_test, y_pred)"
     ],
     "language": "python",
     "metadata": {},
     "outputs": [
      {
       "metadata": {},
       "output_type": "pyout",
       "prompt_number": 128,
       "text": [
        "array([[104,  13],\n",
        "       [ 11,  79]])"
       ]
      }
     ],
     "prompt_number": 128
    },
    {
     "cell_type": "code",
     "collapsed": false,
     "input": [
      "print classification_report(y_test, y_pred)"
     ],
     "language": "python",
     "metadata": {},
     "outputs": [
      {
       "output_type": "stream",
       "stream": "stdout",
       "text": [
        "             precision    recall  f1-score   support\n",
        "\n",
        "        0.0       0.90      0.89      0.90       117\n",
        "        1.0       0.86      0.88      0.87        90\n",
        "\n",
        "avg / total       0.88      0.88      0.88       207\n",
        "\n"
       ]
      }
     ],
     "prompt_number": 129
    },
    {
     "cell_type": "code",
     "collapsed": false,
     "input": [
      "# examine the coefficients and significance of Variables\n",
      "pd.DataFrame(zip(data.columns, np.transpose(clf.coef_)))"
     ],
     "language": "python",
     "metadata": {},
     "outputs": [
      {
       "html": [
        "<div style=\"max-height:1000px;max-width:1500px;overflow:auto;\">\n",
        "<table border=\"1\" class=\"dataframe\">\n",
        "  <thead>\n",
        "    <tr style=\"text-align: right;\">\n",
        "      <th></th>\n",
        "      <th>0</th>\n",
        "      <th>1</th>\n",
        "    </tr>\n",
        "  </thead>\n",
        "  <tbody>\n",
        "    <tr>\n",
        "      <th>0 </th>\n",
        "      <td>    a</td>\n",
        "      <td>   [-0.0388109321095]</td>\n",
        "    </tr>\n",
        "    <tr>\n",
        "      <th>1 </th>\n",
        "      <td>    b</td>\n",
        "      <td>    [-0.017100289632]</td>\n",
        "    </tr>\n",
        "    <tr>\n",
        "      <th>2 </th>\n",
        "      <td>    c</td>\n",
        "      <td>  [-0.00692304053432]</td>\n",
        "    </tr>\n",
        "    <tr>\n",
        "      <th>3 </th>\n",
        "      <td>    h</td>\n",
        "      <td>     [0.110972756589]</td>\n",
        "    </tr>\n",
        "    <tr>\n",
        "      <th>4 </th>\n",
        "      <td>    i</td>\n",
        "      <td>      [3.06226072908]</td>\n",
        "    </tr>\n",
        "    <tr>\n",
        "      <th>5 </th>\n",
        "      <td>    j</td>\n",
        "      <td>     [0.581652369456]</td>\n",
        "    </tr>\n",
        "    <tr>\n",
        "      <th>6 </th>\n",
        "      <td>    k</td>\n",
        "      <td>     [0.114639909675]</td>\n",
        "    </tr>\n",
        "    <tr>\n",
        "      <th>7 </th>\n",
        "      <td>    l</td>\n",
        "      <td>   [-0.0933590322526]</td>\n",
        "    </tr>\n",
        "    <tr>\n",
        "      <th>8 </th>\n",
        "      <td>    n</td>\n",
        "      <td>  [-0.00169472518524]</td>\n",
        "    </tr>\n",
        "    <tr>\n",
        "      <th>9 </th>\n",
        "      <td>    o</td>\n",
        "      <td>  [0.000434023581746]</td>\n",
        "    </tr>\n",
        "    <tr>\n",
        "      <th>10</th>\n",
        "      <td>  d_l</td>\n",
        "      <td>     [0.316338517392]</td>\n",
        "    </tr>\n",
        "    <tr>\n",
        "      <th>11</th>\n",
        "      <td>  d_t</td>\n",
        "      <td>     [0.618439273465]</td>\n",
        "    </tr>\n",
        "    <tr>\n",
        "      <th>12</th>\n",
        "      <td>  d_u</td>\n",
        "      <td>    [-0.663143462292]</td>\n",
        "    </tr>\n",
        "    <tr>\n",
        "      <th>13</th>\n",
        "      <td>  d_y</td>\n",
        "      <td>    [-0.742918053903]</td>\n",
        "    </tr>\n",
        "    <tr>\n",
        "      <th>14</th>\n",
        "      <td>  e_g</td>\n",
        "      <td>    [-0.044704188827]</td>\n",
        "    </tr>\n",
        "    <tr>\n",
        "      <th>15</th>\n",
        "      <td> e_gg</td>\n",
        "      <td>     [0.316338517392]</td>\n",
        "    </tr>\n",
        "    <tr>\n",
        "      <th>16</th>\n",
        "      <td>  e_p</td>\n",
        "      <td>    [-0.742918053903]</td>\n",
        "    </tr>\n",
        "    <tr>\n",
        "      <th>17</th>\n",
        "      <td> f_aa</td>\n",
        "      <td>    [-0.311556911642]</td>\n",
        "    </tr>\n",
        "    <tr>\n",
        "      <th>18</th>\n",
        "      <td>  f_c</td>\n",
        "      <td>    [-0.033330653342]</td>\n",
        "    </tr>\n",
        "    <tr>\n",
        "      <th>19</th>\n",
        "      <td> f_cc</td>\n",
        "      <td>     [0.710414891272]</td>\n",
        "    </tr>\n",
        "    <tr>\n",
        "      <th>20</th>\n",
        "      <td>  f_d</td>\n",
        "      <td>    [-0.416783657171]</td>\n",
        "    </tr>\n",
        "    <tr>\n",
        "      <th>21</th>\n",
        "      <td>  f_e</td>\n",
        "      <td>    [-0.462483495028]</td>\n",
        "    </tr>\n",
        "    <tr>\n",
        "      <th>22</th>\n",
        "      <td> f_ff</td>\n",
        "      <td>    [-0.663556195413]</td>\n",
        "    </tr>\n",
        "    <tr>\n",
        "      <th>23</th>\n",
        "      <td>  f_i</td>\n",
        "      <td>    [-0.322273425752]</td>\n",
        "    </tr>\n",
        "    <tr>\n",
        "      <th>24</th>\n",
        "      <td>  f_j</td>\n",
        "      <td>    [-0.152982294011]</td>\n",
        "    </tr>\n",
        "    <tr>\n",
        "      <th>25</th>\n",
        "      <td>  f_k</td>\n",
        "      <td>    [-0.643436360379]</td>\n",
        "    </tr>\n",
        "    <tr>\n",
        "      <th>26</th>\n",
        "      <td>  f_m</td>\n",
        "      <td>     [0.279302556321]</td>\n",
        "    </tr>\n",
        "    <tr>\n",
        "      <th>27</th>\n",
        "      <td>  f_q</td>\n",
        "      <td>     [0.296813282764]</td>\n",
        "    </tr>\n",
        "    <tr>\n",
        "      <th>28</th>\n",
        "      <td>  f_r</td>\n",
        "      <td> [-0.000500883805959]</td>\n",
        "    </tr>\n",
        "    <tr>\n",
        "      <th>29</th>\n",
        "      <td>  f_w</td>\n",
        "      <td>    [0.0830668684567]</td>\n",
        "    </tr>\n",
        "    <tr>\n",
        "      <th>30</th>\n",
        "      <td>  f_x</td>\n",
        "      <td>      [1.16602255239]</td>\n",
        "    </tr>\n",
        "    <tr>\n",
        "      <th>31</th>\n",
        "      <td> g_bb</td>\n",
        "      <td>    [-0.684751085583]</td>\n",
        "    </tr>\n",
        "    <tr>\n",
        "      <th>32</th>\n",
        "      <td> g_dd</td>\n",
        "      <td>      [0.15800091327]</td>\n",
        "    </tr>\n",
        "    <tr>\n",
        "      <th>33</th>\n",
        "      <td> g_ff</td>\n",
        "      <td>     [-0.33699477062]</td>\n",
        "    </tr>\n",
        "    <tr>\n",
        "      <th>34</th>\n",
        "      <td>  g_h</td>\n",
        "      <td>     [0.215179664735]</td>\n",
        "    </tr>\n",
        "    <tr>\n",
        "      <th>35</th>\n",
        "      <td>  g_j</td>\n",
        "      <td>     [0.290906714522]</td>\n",
        "    </tr>\n",
        "    <tr>\n",
        "      <th>36</th>\n",
        "      <td>  g_n</td>\n",
        "      <td>     [0.345536476468]</td>\n",
        "    </tr>\n",
        "    <tr>\n",
        "      <th>37</th>\n",
        "      <td>  g_o</td>\n",
        "      <td>  [5.37827441669e-11]</td>\n",
        "    </tr>\n",
        "    <tr>\n",
        "      <th>38</th>\n",
        "      <td>  g_v</td>\n",
        "      <td>   [-0.0639688342088]</td>\n",
        "    </tr>\n",
        "    <tr>\n",
        "      <th>39</th>\n",
        "      <td>  g_z</td>\n",
        "      <td>    [-0.395192803975]</td>\n",
        "    </tr>\n",
        "    <tr>\n",
        "      <th>40</th>\n",
        "      <td>  m_g</td>\n",
        "      <td>    [-0.690266096151]</td>\n",
        "    </tr>\n",
        "    <tr>\n",
        "      <th>41</th>\n",
        "      <td>  m_p</td>\n",
        "      <td>     [0.618439273519]</td>\n",
        "    </tr>\n",
        "    <tr>\n",
        "      <th>42</th>\n",
        "      <td>  m_s</td>\n",
        "      <td>    [-0.399456902706]</td>\n",
        "    </tr>\n",
        "  </tbody>\n",
        "</table>\n",
        "</div>"
       ],
       "metadata": {},
       "output_type": "pyout",
       "prompt_number": 130,
       "text": [
        "       0                     1\n",
        "0      a    [-0.0388109321095]\n",
        "1      b     [-0.017100289632]\n",
        "2      c   [-0.00692304053432]\n",
        "3      h      [0.110972756589]\n",
        "4      i       [3.06226072908]\n",
        "5      j      [0.581652369456]\n",
        "6      k      [0.114639909675]\n",
        "7      l    [-0.0933590322526]\n",
        "8      n   [-0.00169472518524]\n",
        "9      o   [0.000434023581746]\n",
        "10   d_l      [0.316338517392]\n",
        "11   d_t      [0.618439273465]\n",
        "12   d_u     [-0.663143462292]\n",
        "13   d_y     [-0.742918053903]\n",
        "14   e_g     [-0.044704188827]\n",
        "15  e_gg      [0.316338517392]\n",
        "16   e_p     [-0.742918053903]\n",
        "17  f_aa     [-0.311556911642]\n",
        "18   f_c     [-0.033330653342]\n",
        "19  f_cc      [0.710414891272]\n",
        "20   f_d     [-0.416783657171]\n",
        "21   f_e     [-0.462483495028]\n",
        "22  f_ff     [-0.663556195413]\n",
        "23   f_i     [-0.322273425752]\n",
        "24   f_j     [-0.152982294011]\n",
        "25   f_k     [-0.643436360379]\n",
        "26   f_m      [0.279302556321]\n",
        "27   f_q      [0.296813282764]\n",
        "28   f_r  [-0.000500883805959]\n",
        "29   f_w     [0.0830668684567]\n",
        "30   f_x       [1.16602255239]\n",
        "31  g_bb     [-0.684751085583]\n",
        "32  g_dd       [0.15800091327]\n",
        "33  g_ff      [-0.33699477062]\n",
        "34   g_h      [0.215179664735]\n",
        "35   g_j      [0.290906714522]\n",
        "36   g_n      [0.345536476468]\n",
        "37   g_o   [5.37827441669e-11]\n",
        "38   g_v    [-0.0639688342088]\n",
        "39   g_z     [-0.395192803975]\n",
        "40   m_g     [-0.690266096151]\n",
        "41   m_p      [0.618439273519]\n",
        "42   m_s     [-0.399456902706]"
       ]
      }
     ],
     "prompt_number": 130
    },
    {
     "cell_type": "code",
     "collapsed": false,
     "input": [
      "# Let's take a look at Predicted Probabilities\n",
      "y_pred_df = pd.DataFrame(clf.predict_proba(X_test))\n",
      "y_pred_df.rename(columns={0: 'No', 1: 'Yes'}, inplace=True)\n",
      "y_pred_df['y_pred'] = y_pred\n",
      "y_pred_df['y_true'] = y_test\n",
      "y_pred_df.tail()"
     ],
     "language": "python",
     "metadata": {},
     "outputs": [
      {
       "html": [
        "<div style=\"max-height:1000px;max-width:1500px;overflow:auto;\">\n",
        "<table border=\"1\" class=\"dataframe\">\n",
        "  <thead>\n",
        "    <tr style=\"text-align: right;\">\n",
        "      <th></th>\n",
        "      <th>No</th>\n",
        "      <th>Yes</th>\n",
        "      <th>y_pred</th>\n",
        "      <th>y_true</th>\n",
        "    </tr>\n",
        "  </thead>\n",
        "  <tbody>\n",
        "    <tr>\n",
        "      <th>202</th>\n",
        "      <td> 0.978083</td>\n",
        "      <td> 0.021917</td>\n",
        "      <td> 0</td>\n",
        "      <td> 0</td>\n",
        "    </tr>\n",
        "    <tr>\n",
        "      <th>203</th>\n",
        "      <td> 0.517058</td>\n",
        "      <td> 0.482942</td>\n",
        "      <td> 0</td>\n",
        "      <td> 1</td>\n",
        "    </tr>\n",
        "    <tr>\n",
        "      <th>204</th>\n",
        "      <td> 0.968402</td>\n",
        "      <td> 0.031598</td>\n",
        "      <td> 0</td>\n",
        "      <td> 0</td>\n",
        "    </tr>\n",
        "    <tr>\n",
        "      <th>205</th>\n",
        "      <td> 0.818267</td>\n",
        "      <td> 0.181733</td>\n",
        "      <td> 0</td>\n",
        "      <td> 0</td>\n",
        "    </tr>\n",
        "    <tr>\n",
        "      <th>206</th>\n",
        "      <td> 0.187361</td>\n",
        "      <td> 0.812639</td>\n",
        "      <td> 1</td>\n",
        "      <td> 1</td>\n",
        "    </tr>\n",
        "  </tbody>\n",
        "</table>\n",
        "</div>"
       ],
       "metadata": {},
       "output_type": "pyout",
       "prompt_number": 131,
       "text": [
        "           No       Yes  y_pred  y_true\n",
        "202  0.978083  0.021917       0       0\n",
        "203  0.517058  0.482942       0       1\n",
        "204  0.968402  0.031598       0       0\n",
        "205  0.818267  0.181733       0       0\n",
        "206  0.187361  0.812639       1       1"
       ]
      }
     ],
     "prompt_number": 131
    },
    {
     "cell_type": "code",
     "collapsed": false,
     "input": [
      "# Take a look at Predicted vs True Values\n",
      "sns.regplot(y_pred, y_test, x_jitter=0.1, y_jitter=0.1)"
     ],
     "language": "python",
     "metadata": {},
     "outputs": [
      {
       "metadata": {},
       "output_type": "pyout",
       "prompt_number": 132,
       "text": [
        "<matplotlib.axes._subplots.AxesSubplot at 0x10c3b4190>"
       ]
      },
      {
       "metadata": {},
       "output_type": "display_data",
       "png": "[encoded data removed]",
       "text": [
        "<matplotlib.figure.Figure at 0x10ae3d050>"
       ]
      }
     ],
     "prompt_number": 132
    },
    {
     "cell_type": "code",
     "collapsed": false,
     "input": [],
     "language": "python",
     "metadata": {},
     "outputs": []
    }
   ],
   "metadata": {}
  }
 ]
}