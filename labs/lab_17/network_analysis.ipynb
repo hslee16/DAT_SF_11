{
 "metadata": {
  "name": "",
  "signature": "sha256:e70beaa3b8b2a32fdb4c11b0fe9348cfe1e69f6846c1fc4eda3fdafc37960166"
 },
 "nbformat": 3,
 "nbformat_minor": 0,
 "worksheets": [
  {
   "cells": [
    {
     "cell_type": "markdown",
     "metadata": {},
     "source": [
      "#Network Analysis with `networx`"
     ]
    },
    {
     "cell_type": "code",
     "collapsed": false,
     "input": [
      "import numpy as np\n",
      "import networkx as nx\n",
      "import matplotlib.pyplot as plt\n",
      "from IPython.core.pylabtools import figsize\n",
      "%matplotlib inline\n",
      "figsize(8,8)"
     ],
     "language": "python",
     "metadata": {},
     "outputs": []
    },
    {
     "cell_type": "markdown",
     "metadata": {},
     "source": [
      "##Creating a graph\n",
      "There is a wide variety of notations and file formats used in network analysis, here are a few options for creating graph\n",
      "###Adding nodes and edges to a graph object"
     ]
    },
    {
     "cell_type": "code",
     "collapsed": false,
     "input": [
      "g = nx.MultiDiGraph()\n",
      "\n",
      "g.add_node(1)\n",
      "g.add_node(2)\n",
      "g.add_node(3)\n",
      "\n",
      "g.add_edge(1, 2)\n",
      "g.add_edge(2, 1)\n",
      "g.add_edge(1, 3)\n",
      "g.add_edge(3, 2)"
     ],
     "language": "python",
     "metadata": {},
     "outputs": []
    },
    {
     "cell_type": "markdown",
     "metadata": {},
     "source": [
      "####Visualize your graph\n",
      "Note: `networkx.draw` renders graphs using an algorithm that depends on a random selection of nodes. The only way to draw the same 'looking' graph is to seed your random number generator "
     ]
    },
    {
     "cell_type": "code",
     "collapsed": false,
     "input": [
      "np.random.seed(40)\n",
      "nx.draw(g)"
     ],
     "language": "python",
     "metadata": {},
     "outputs": []
    },
    {
     "cell_type": "markdown",
     "metadata": {},
     "source": [
      "###Transfor Graph to Adjacency Matrix"
     ]
    },
    {
     "cell_type": "code",
     "collapsed": false,
     "input": [
      "#adjacency notation\n",
      "adjacency_matrix = nx.to_numpy_matrix(g)\n",
      "adjacency_matrix"
     ],
     "language": "python",
     "metadata": {},
     "outputs": []
    },
    {
     "cell_type": "markdown",
     "metadata": {},
     "source": [
      "###Nested dictionary notation"
     ]
    },
    {
     "cell_type": "code",
     "collapsed": false,
     "input": [
      "net_dict = nx.to_dict_of_dicts(g)\n",
      "print net_dict"
     ],
     "language": "python",
     "metadata": {},
     "outputs": []
    },
    {
     "cell_type": "markdown",
     "metadata": {},
     "source": [
      "###Dictionary of lists notation"
     ]
    },
    {
     "cell_type": "code",
     "collapsed": false,
     "input": [
      "nx.to_dict_of_lists(g)"
     ],
     "language": "python",
     "metadata": {},
     "outputs": []
    },
    {
     "cell_type": "markdown",
     "metadata": {},
     "source": [
      "###All of these can be transformed back into a Graph"
     ]
    },
    {
     "cell_type": "code",
     "collapsed": false,
     "input": [
      "np.random.seed(40)\n",
      "nx.draw(nx.to_networkx_graph(net_dict,create_using=nx.MultiDiGraph()))"
     ],
     "language": "python",
     "metadata": {},
     "outputs": []
    },
    {
     "cell_type": "markdown",
     "metadata": {},
     "source": [
      "More on getting data into a graph [here](https://networkx.github.io/documentation/latest/reference/convert.html)"
     ]
    },
    {
     "cell_type": "markdown",
     "metadata": {},
     "source": [
      "##Network Computations\n",
      "Let's get a slightly more interestin graph. Zachary's Karate club is a famous, well understood network and is available in the `networkx` package"
     ]
    },
    {
     "cell_type": "code",
     "collapsed": false,
     "input": [
      "#load from networkx data\n",
      "G = nx.karate_club_graph()\n",
      "np.random.seed(40)\n",
      "nx.draw(G)"
     ],
     "language": "python",
     "metadata": {},
     "outputs": []
    },
    {
     "cell_type": "markdown",
     "metadata": {},
     "source": [
      "###Describing a Graph\n",
      "####Graph Diameter\n",
      "longest shortest path length, the longest path geodesic"
     ]
    },
    {
     "cell_type": "code",
     "collapsed": false,
     "input": [
      "nx.diameter(G)"
     ],
     "language": "python",
     "metadata": {},
     "outputs": []
    },
    {
     "cell_type": "markdown",
     "metadata": {},
     "source": [
      "####Average path length\n",
      "average number of steps along the shortest paths for all possible node pairs"
     ]
    },
    {
     "cell_type": "code",
     "collapsed": false,
     "input": [
      "nx.average_shortest_path_length(G)"
     ],
     "language": "python",
     "metadata": {},
     "outputs": []
    },
    {
     "cell_type": "markdown",
     "metadata": {},
     "source": [
      "####Shortest path\n",
      "pairwise shortest path"
     ]
    },
    {
     "cell_type": "code",
     "collapsed": false,
     "input": [
      "nx.shortest_path_length(G)"
     ],
     "language": "python",
     "metadata": {},
     "outputs": []
    },
    {
     "cell_type": "markdown",
     "metadata": {},
     "source": [
      "###Transitivity - Global clustering coefficient\n",
      "First, we need to identify traingles (subgraphs of order 3)"
     ]
    },
    {
     "cell_type": "code",
     "collapsed": false,
     "input": [
      "nx.triangles(G)"
     ],
     "language": "python",
     "metadata": {},
     "outputs": []
    },
    {
     "cell_type": "code",
     "collapsed": false,
     "input": [
      "# 3*ntriangles/ntriads\n",
      "nx.transitivity(G)"
     ],
     "language": "python",
     "metadata": {},
     "outputs": []
    },
    {
     "cell_type": "markdown",
     "metadata": {},
     "source": [
      "####Q: What is the transitivity of a complete graph?"
     ]
    },
    {
     "cell_type": "code",
     "collapsed": false,
     "input": [
      "G_complete = nx.complete_graph(4)\n",
      "np.random.seed(40)\n",
      "nx.draw(G_complete)\n",
      "print nx.transitivity(G_complete)"
     ],
     "language": "python",
     "metadata": {},
     "outputs": []
    },
    {
     "cell_type": "markdown",
     "metadata": {},
     "source": [
      "###Node-Degree Distribution\n",
      "Recall, degree is the number of connections on each node"
     ]
    },
    {
     "cell_type": "code",
     "collapsed": false,
     "input": [
      "nx.degree(G)"
     ],
     "language": "python",
     "metadata": {},
     "outputs": []
    },
    {
     "cell_type": "markdown",
     "metadata": {},
     "source": [
      "Degree distribution $P(k)$ is simply the fraction of nodes of degree ($k$)\n",
      "$$\n",
      "P(k) = \\frac{n_k}{n}\n",
      "$$\n",
      "A degree rank plot will show us the probability that a vertex has degree $k$"
     ]
    },
    {
     "cell_type": "code",
     "collapsed": false,
     "input": [
      "np.random.seed(40)\n",
      "degree_sequence=sorted(nx.degree(G).values(),reverse=True) # degree sequence\n",
      "#print \"Degree sequence\", degree_sequence\n",
      "dmax=max(degree_sequence)\n",
      "\n",
      "plt.loglog(degree_sequence,'b-',marker='o')\n",
      "plt.title(\"Degree rank plot\")\n",
      "plt.ylabel(\"degree\")\n",
      "plt.xlabel(\"rank\")\n",
      "\n",
      "# draw graph in inset\n",
      "plt.axes([0.45,0.45,0.45,0.45])\n",
      "Gcc=sorted(nx.connected_component_subgraphs(G), key = len, reverse=True)[0]\n",
      "pos=nx.spring_layout(Gcc)\n",
      "plt.axis('off')\n",
      "np.random.seed(40)\n",
      "nx.draw_networkx_nodes(Gcc,pos,node_size=20)\n",
      "nx.draw_networkx_edges(Gcc,pos,alpha=0.4)"
     ],
     "language": "python",
     "metadata": {},
     "outputs": []
    },
    {
     "cell_type": "markdown",
     "metadata": {},
     "source": [
      "####Create a Degree Rank plot of a 4 dimensional hypercube"
     ]
    },
    {
     "cell_type": "code",
     "collapsed": false,
     "input": [],
     "language": "python",
     "metadata": {},
     "outputs": []
    },
    {
     "cell_type": "markdown",
     "metadata": {},
     "source": [
      "##Pagerank\n",
      "https://networkx.github.io/documentation/latest/reference/generated/networkx.algorithms.link_analysis.pagerank_alg.pagerank.html"
     ]
    },
    {
     "cell_type": "code",
     "collapsed": false,
     "input": [
      "nx.pagerank(G)"
     ],
     "language": "python",
     "metadata": {},
     "outputs": []
    },
    {
     "cell_type": "markdown",
     "metadata": {},
     "source": [
      "##Application - Influential Senators"
     ]
    },
    {
     "cell_type": "code",
     "collapsed": false,
     "input": [
      "import pickle\n",
      "#Go to Appendix to see how this was generated\n",
      "bills = pickle.load(open('../data/bills.pkl'))"
     ],
     "language": "python",
     "metadata": {},
     "outputs": []
    },
    {
     "cell_type": "code",
     "collapsed": false,
     "input": [
      "pagerank = nx.pagerank_numpy(bills)\n",
      "names = np.array(pagerank.keys())\n",
      "vals = np.array([pagerank[n] for n in names])\n",
      "\n",
      "ind = np.argsort(vals)\n",
      "names = names[ind]\n",
      "vals = vals[ind]\n",
      "\n",
      "print \"Highest Scores\"\n",
      "for n, v in zip(names, vals)[-5:][::-1]:\n",
      "    print \"%20.20s\\t%0.3f\" % (n, v)\n",
      "\n",
      "print\n",
      "print \"Lowest Scores\" \n",
      "for n, v in zip(names, vals)[:5]:\n",
      "    print \"%20.20s\\t%0.3f\" % (n, v)"
     ],
     "language": "python",
     "metadata": {},
     "outputs": []
    },
    {
     "cell_type": "code",
     "collapsed": false,
     "input": [
      "deg = nx.degree(bills)\n",
      "figsize(8,8)\n",
      "plt.scatter([deg[n] for n in bills.nodes()],\n",
      "            [pagerank[n] for n in bills.nodes()], 200, alpha=.5, \n",
      "            color='g', edgecolor='white')\n",
      "\n",
      "labels = ['Reid, Harry','Boxer, Barbara',\n",
      "          'Lautenberg, Frank R.', 'Menendez, Robert', \n",
      "          'Harkin, Tom','Blunt, Roy']\n",
      "for lbl in labels:\n",
      "    plt.annotate(lbl, (deg[lbl], pagerank[lbl] + .002), fontsize=12, rotation=10)\n",
      "    \n",
      "plt.xlabel(\"Degree\")\n",
      "plt.ylabel(\"PageRank\")"
     ],
     "language": "python",
     "metadata": {},
     "outputs": []
    },
    {
     "cell_type": "code",
     "collapsed": false,
     "input": [
      "deg_df = pd.DataFrame(zip(deg.keys(),deg.values()),columns=['senator','deg'])"
     ],
     "language": "python",
     "metadata": {},
     "outputs": []
    },
    {
     "cell_type": "code",
     "collapsed": false,
     "input": [
      "deg_df.sort(\"deg\",ascending=False)"
     ],
     "language": "python",
     "metadata": {},
     "outputs": []
    },
    {
     "cell_type": "code",
     "collapsed": false,
     "input": [
      "bill_list"
     ],
     "language": "python",
     "metadata": {},
     "outputs": []
    },
    {
     "cell_type": "markdown",
     "metadata": {},
     "source": [
      "##Exercise: Other Importance Analysis\n",
      "Try, degree centrality, closeness centrality, eigenvector centrality and betweenness centrality to analyze \"important\" Senators. If you needed to \"reach across the aisle\" who might you target."
     ]
    },
    {
     "cell_type": "code",
     "collapsed": false,
     "input": [],
     "language": "python",
     "metadata": {},
     "outputs": []
    },
    {
     "cell_type": "markdown",
     "metadata": {},
     "source": [
      "#Appendix: `govtrack.com` scrapper\n",
      "I've provided this data already prepared, but below is the helper functions to scrape [govtrack](www.govtrack.us) (it takes 10-20 minutes to run)"
     ]
    },
    {
     "cell_type": "code",
     "collapsed": false,
     "input": [
      "import json\n",
      "import requests\n",
      "from pattern import web #may need to install this\n",
      "import pickle\n",
      "\n",
      "def get_senate_bill(bill):\n",
      "    url = 'http://www.govtrack.us/data/congress/113/bills/s/s%i/data.json' % bill\n",
      "    page = requests.get(url).text\n",
      "    return json.loads(page)\n",
      "\n",
      "def get_all_bills():\n",
      "    page = requests.get('http://www.govtrack.us/data/congress/113/bills/s/').text\n",
      "    dom = web.Element(page)\n",
      "    links = [a.attr['href'] for a in dom.by_tag('a') \n",
      "             if a.attr.get('href', '').startswith('s')]\n",
      "    return [get_senate_bill(i) for i in range(1, len(links) + 1)]\n",
      "\n",
      "def bill_graph(data):\n",
      "    \n",
      "    sp = nx.DiGraph()\n",
      "\n",
      "    for bill in data:\n",
      "        sponsor = bill['sponsor']['name']\n",
      "        sponsor_data = bill['sponsor']\n",
      "    \n",
      "        cosponsors = [cs['name'] for cs in bill['cosponsors']]\n",
      "    \n",
      "        if sponsor not in sp:\n",
      "            sp.add_node(sponsor, **sponsor_data)\n",
      "        \n",
      "        for cosponsor in bill['cosponsors']:\n",
      "            if cosponsor['name'] not in sp:\n",
      "                sp.add_node(cosponsor['name'], **cosponsor)            \n",
      "            cosponsor = cosponsor['name']\n",
      "        \n",
      "            try:\n",
      "                w = sp[cosponsor][sponsor]['weight'] + 1\n",
      "            except KeyError:\n",
      "                w = + 1\n",
      "            sp.add_edge(cosponsor, sponsor, weight=w)    \n",
      "\n",
      "    return sp\n",
      "\n",
      "bill_list = get_all_bills()\n",
      "bills = bill_graph(bill_list)\n",
      "pickle.dump(bill_list,open(\"bill_list.pkl\",\"w\"))\n",
      "pickle.dump(bills,open(\"bills.pkl\",\"w\"))"
     ],
     "language": "python",
     "metadata": {},
     "outputs": []
    }
   ],
   "metadata": {}
  }
 ]
}