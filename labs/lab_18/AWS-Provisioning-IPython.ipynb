{
 "metadata": {
  "name": "",
  "signature": "sha256:a4b167ae2a441a87f7b5f53bed150b90e8436e6721d7c87d0098f4378604fd10"
 },
 "nbformat": 3,
 "nbformat_minor": 0,
 "worksheets": [
  {
   "cells": [
    {
     "cell_type": "markdown",
     "metadata": {},
     "source": [
      "### AWS Provisining"
     ]
    },
    {
     "cell_type": "markdown",
     "metadata": {},
     "source": [
      "\n",
      "- http://star.mit.edu/cluster/docs/latest/quickstart.html\n",
      "- http://star.mit.edu/cluster/docs/latest/plugins/ipython.html\n",
      "- http://ipython.org/ipython-doc/2/parallel/parallel_process.html"
     ]
    },
    {
     "cell_type": "markdown",
     "metadata": {},
     "source": [
      "### Largely Based on this Post - https://gist.github.com/iamatypeofwalrus/5183133\n",
      "\n",
      "When Selecting AWS Image, choose AWS MarketPlace - CentOS.  You can choose Ubuntu (if you are familiar with it)\n",
      "\n",
      "open ports - 443 (https), 8888\n",
      "\n",
      "ssh -i ~/.ssh/aws_key.pem centos@ec2-54-161-128-192.compute-1.amazonaws.com\n",
      "\n",
      "sudo yum update\n",
      "\n",
      "sudo yum install wget\n",
      "\n",
      "sudo yum install git\n",
      "\n",
      "sudo yum install bzip2\n",
      "\n",
      "download miniconda - http://conda.pydata.org/miniconda.html\n",
      "\n",
      "wget http://repo.continuum.io/miniconda/Miniconda-latest-Linux-x86_64.sh\n",
      "\n",
      "wget http://repo.continuum.io/miniconda/Miniconda-3.8.3-Linux-x86_64.sh\n",
      "\n",
      "sh Miniconda-latest-Linux-x86_64.sh\n",
      "\n",
      "source ~/.bashrc\n",
      "\n"
     ]
    },
    {
     "cell_type": "markdown",
     "metadata": {},
     "source": [
      "Install Conda Packages:\n",
      "\n",
      "* conda update conda\n",
      "* conda install ipython-notebook"
     ]
    },
    {
     "cell_type": "code",
     "collapsed": false,
     "input": [
      "# Run - ipython profile create nbserver"
     ],
     "language": "python",
     "metadata": {},
     "outputs": [],
     "prompt_number": 3
    },
    {
     "cell_type": "code",
     "collapsed": false,
     "input": [
      "# nano or vi ~/.ipython/profile_nbserver/ipython_notebook_config.py \n",
      "\n",
      "'''\n",
      "# kernel config\n",
      "c.IPKernelApp.pylab = 'inline'\n",
      "# Notebook Config\n",
      "c.NotebookApp.certificate = u'/users/centos/certificate/mycert.pem'\n",
      "c.NotebookApp.ip = '*'\n",
      "c.NotebookApp.open_browser = False\n",
      "c.NotebookApp.password = u'sha1:875578334707:e0a6d6558b3f4ea9dc57804bff2872d5c673702b'\n",
      "c.NotebookApp.port = 8888\n",
      "''';"
     ],
     "language": "python",
     "metadata": {},
     "outputs": [],
     "prompt_number": 5
    },
    {
     "cell_type": "code",
     "collapsed": false,
     "input": [
      " ipython notebook --profile=nbserver"
     ],
     "language": "python",
     "metadata": {},
     "outputs": []
    }
   ],
   "metadata": {}
  }
 ]
}