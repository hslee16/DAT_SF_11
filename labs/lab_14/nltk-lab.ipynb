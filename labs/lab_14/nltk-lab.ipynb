{
 "metadata": {
  "name": "",
  "signature": "sha256:d0d9597e42b0a17d8e5162e27dbb31a584e1231787c995f46570a012df85b208"
 },
 "nbformat": 3,
 "nbformat_minor": 0,
 "worksheets": [
  {
   "cells": [
    {
     "cell_type": "code",
     "collapsed": false,
     "input": [
      "import numpy as np\n",
      "import matplotlib.pyplot as plt\n",
      "import pandas as pd\n",
      "\n",
      "%matplotlib inline"
     ],
     "language": "python",
     "metadata": {},
     "outputs": [],
     "prompt_number": 1
    },
    {
     "cell_type": "code",
     "collapsed": false,
     "input": [
      "# If this gives error, go to command line and run \"conda install nltk\"\n",
      "import nltk"
     ],
     "language": "python",
     "metadata": {},
     "outputs": [],
     "prompt_number": 2
    },
    {
     "cell_type": "code",
     "collapsed": false,
     "input": [
      "# NLTK comes with its own set of corpus data that we can use to learn about NLTK\n",
      "# nltk.download()"
     ],
     "language": "python",
     "metadata": {},
     "outputs": [],
     "prompt_number": 3
    },
    {
     "cell_type": "markdown",
     "metadata": {},
     "source": [
      "### Corpus\n",
      "\n",
      "* \"corpus\" = collection of documents\n",
      "* \"corpora\" = plural form of corpus"
     ]
    },
    {
     "cell_type": "code",
     "collapsed": false,
     "input": [
      "from nltk.corpus import inaugural"
     ],
     "language": "python",
     "metadata": {},
     "outputs": [],
     "prompt_number": 4
    },
    {
     "cell_type": "code",
     "collapsed": false,
     "input": [
      "inaugural.fileids()"
     ],
     "language": "python",
     "metadata": {},
     "outputs": [
      {
       "metadata": {},
       "output_type": "pyout",
       "prompt_number": 5,
       "text": [
        "[u'1789-Washington.txt',\n",
        " u'1793-Washington.txt',\n",
        " u'1797-Adams.txt',\n",
        " u'1801-Jefferson.txt',\n",
        " u'1805-Jefferson.txt',\n",
        " u'1809-Madison.txt',\n",
        " u'1813-Madison.txt',\n",
        " u'1817-Monroe.txt',\n",
        " u'1821-Monroe.txt',\n",
        " u'1825-Adams.txt',\n",
        " u'1829-Jackson.txt',\n",
        " u'1833-Jackson.txt',\n",
        " u'1837-VanBuren.txt',\n",
        " u'1841-Harrison.txt',\n",
        " u'1845-Polk.txt',\n",
        " u'1849-Taylor.txt',\n",
        " u'1853-Pierce.txt',\n",
        " u'1857-Buchanan.txt',\n",
        " u'1861-Lincoln.txt',\n",
        " u'1865-Lincoln.txt',\n",
        " u'1869-Grant.txt',\n",
        " u'1873-Grant.txt',\n",
        " u'1877-Hayes.txt',\n",
        " u'1881-Garfield.txt',\n",
        " u'1885-Cleveland.txt',\n",
        " u'1889-Harrison.txt',\n",
        " u'1893-Cleveland.txt',\n",
        " u'1897-McKinley.txt',\n",
        " u'1901-McKinley.txt',\n",
        " u'1905-Roosevelt.txt',\n",
        " u'1909-Taft.txt',\n",
        " u'1913-Wilson.txt',\n",
        " u'1917-Wilson.txt',\n",
        " u'1921-Harding.txt',\n",
        " u'1925-Coolidge.txt',\n",
        " u'1929-Hoover.txt',\n",
        " u'1933-Roosevelt.txt',\n",
        " u'1937-Roosevelt.txt',\n",
        " u'1941-Roosevelt.txt',\n",
        " u'1945-Roosevelt.txt',\n",
        " u'1949-Truman.txt',\n",
        " u'1953-Eisenhower.txt',\n",
        " u'1957-Eisenhower.txt',\n",
        " u'1961-Kennedy.txt',\n",
        " u'1965-Johnson.txt',\n",
        " u'1969-Nixon.txt',\n",
        " u'1973-Nixon.txt',\n",
        " u'1977-Carter.txt',\n",
        " u'1981-Reagan.txt',\n",
        " u'1985-Reagan.txt',\n",
        " u'1989-Bush.txt',\n",
        " u'1993-Clinton.txt',\n",
        " u'1997-Clinton.txt',\n",
        " u'2001-Bush.txt',\n",
        " u'2005-Bush.txt',\n",
        " u'2009-Obama.txt']"
       ]
      }
     ],
     "prompt_number": 5
    },
    {
     "cell_type": "code",
     "collapsed": false,
     "input": [
      "inaugural.words('2009-Obama.txt')"
     ],
     "language": "python",
     "metadata": {},
     "outputs": [
      {
       "metadata": {},
       "output_type": "pyout",
       "prompt_number": 7,
       "text": [
        "[u'My', u'fellow', u'citizens', u':', u'I', u'stand', ...]"
       ]
      }
     ],
     "prompt_number": 7
    },
    {
     "cell_type": "markdown",
     "metadata": {},
     "source": [
      "### Reading Wine Reviews"
     ]
    },
    {
     "cell_type": "code",
     "collapsed": false,
     "input": [
      "from nltk.corpus import webtext\n",
      "webtext.fileids()"
     ],
     "language": "python",
     "metadata": {},
     "outputs": [
      {
       "metadata": {},
       "output_type": "pyout",
       "prompt_number": 8,
       "text": [
        "[u'firefox.txt',\n",
        " u'grail.txt',\n",
        " u'overheard.txt',\n",
        " u'pirates.txt',\n",
        " u'singles.txt',\n",
        " u'wine.txt']"
       ]
      }
     ],
     "prompt_number": 8
    },
    {
     "cell_type": "code",
     "collapsed": false,
     "input": [
      "# wine reviews corpus\n",
      "text = webtext.raw('wine.txt')\n",
      "print text[:500].split()"
     ],
     "language": "python",
     "metadata": {},
     "outputs": [
      {
       "output_type": "stream",
       "stream": "stdout",
       "text": [
        "[u'Lovely', u'delicate,', u'fragrant', u'Rhone', u'wine.', u'Polished', u'leather', u'and', u'strawberries.', u'Perhaps', u'a', u'bit', u'dilute,', u'but', u'good', u'for', u'drinking', u'now.', u'***', u'Liquorice,', u'cherry', u'fruit.', u'Simple', u'and', u'coarse', u'at', u'the', u'finish.', u'**', u'Thin', u'and', u'completely', u'uninspiring.', u'*', u'Rough.', u'No', u'Stars', u'Big,', u'fat,', u'textured', u'Chardonnay', u'-', u'nuts', u'and', u'butterscotch.', u'A', u'slightly', u'odd', u'metallic/cardboard', u'finish,', u'but', u'probably', u'***', u'A', u'blind', u'tasting,', u'other', u'than', u'the', u'fizz,', u'which', u'included', u'five', u'vintages', u'of', u'Cote', u'Rotie', u'Brune', u'et', u'Blonde', u'from', u'Guigal.', u'Surprisingly', u'young', u'feeling', u'and', u'drinkin']\n"
       ]
      }
     ],
     "prompt_number": 10
    },
    {
     "cell_type": "markdown",
     "metadata": {},
     "source": [
      "### Tokenization\n",
      "\n",
      "What:  Separate text into units such as sentences or words\n",
      "\n",
      "Why:   Gives structure to previously unstructured text\n",
      "\n",
      "Notes: \n",
      "* Relatively easy with English language text, not easy with some languages"
     ]
    },
    {
     "cell_type": "code",
     "collapsed": false,
     "input": [
      "from nltk import tokenize"
     ],
     "language": "python",
     "metadata": {},
     "outputs": [],
     "prompt_number": 11
    },
    {
     "cell_type": "code",
     "collapsed": false,
     "input": [
      "# Explore the different tokenizers"
     ],
     "language": "python",
     "metadata": {},
     "outputs": []
    },
    {
     "cell_type": "code",
     "collapsed": false,
     "input": [
      "# tokenize into sentences\n",
      "sentences = [sent for sent in tokenize.sent_tokenize(text)]\n",
      "sentences[:10]"
     ],
     "language": "python",
     "metadata": {},
     "outputs": [
      {
       "metadata": {},
       "output_type": "pyout",
       "prompt_number": 12,
       "text": [
        "[u'Lovely delicate, fragrant Rhone wine.',\n",
        " u'Polished leather and strawberries.',\n",
        " u'Perhaps a bit dilute, but good for drinking now.',\n",
        " u'***\\nLiquorice, cherry fruit.',\n",
        " u'Simple and coarse at the finish.',\n",
        " u'**\\nThin and completely uninspiring.',\n",
        " u'*\\nRough.',\n",
        " u'No Stars\\nBig, fat, textured Chardonnay - nuts and butterscotch.',\n",
        " u'A slightly odd metallic/cardboard finish, but probably ***\\nA blind tasting, other than the fizz, which included five vintages of Cote Rotie Brune et Blonde from Guigal.',\n",
        " u'Surprisingly young feeling and drinking well, but without any great complexity.']"
       ]
      }
     ],
     "prompt_number": 12
    },
    {
     "cell_type": "code",
     "collapsed": false,
     "input": [
      "# tokenize into words\n",
      "tokens = [word for word in tokenize.word_tokenize(text)]\n",
      "tokens[:10]"
     ],
     "language": "python",
     "metadata": {},
     "outputs": [
      {
       "metadata": {},
       "output_type": "pyout",
       "prompt_number": 13,
       "text": [
        "[u'Lovely',\n",
        " u'delicate',\n",
        " u',',\n",
        " u'fragrant',\n",
        " u'Rhone',\n",
        " u'wine',\n",
        " u'.',\n",
        " u'Polished',\n",
        " u'leather',\n",
        " u'and']"
       ]
      }
     ],
     "prompt_number": 13
    },
    {
     "cell_type": "code",
     "collapsed": false,
     "input": [
      "# only keep tokens that start with a letter (using regular expressions)\n",
      "import re\n",
      "clean_tokens = [token for token in tokens if re.search(r'^[a-zA-Z]+', token)]\n",
      "clean_tokens[:10]"
     ],
     "language": "python",
     "metadata": {},
     "outputs": [
      {
       "metadata": {},
       "output_type": "pyout",
       "prompt_number": 14,
       "text": [
        "[u'Lovely',\n",
        " u'delicate',\n",
        " u'fragrant',\n",
        " u'Rhone',\n",
        " u'wine',\n",
        " u'Polished',\n",
        " u'leather',\n",
        " u'and',\n",
        " u'strawberries',\n",
        " u'Perhaps']"
       ]
      }
     ],
     "prompt_number": 14
    },
    {
     "cell_type": "code",
     "collapsed": false,
     "input": [
      "# Let's look at word frequency\n",
      "from collections import Counter\n",
      "\n",
      "c = Counter(clean_tokens)\n",
      "c.most_common(25)       \n",
      "\n",
      "# You will see a mixed case words, stop words?, singular, plurals?"
     ],
     "language": "python",
     "metadata": {},
     "outputs": [
      {
       "metadata": {},
       "output_type": "pyout",
       "prompt_number": 15,
       "text": [
        "[(u'a', 821),\n",
        " (u'and', 786),\n",
        " (u'the', 706),\n",
        " (u'of', 482),\n",
        " (u'but', 474),\n",
        " (u'I', 390),\n",
        " (u'it', 318),\n",
        " (u'to', 306),\n",
        " (u'fruit', 291),\n",
        " (u'with', 259),\n",
        " (u'good', 250),\n",
        " (u'A', 230),\n",
        " (u'this', 227),\n",
        " (u'wine', 226),\n",
        " (u'bit', 217),\n",
        " (u'in', 212),\n",
        " (u'Very', 211),\n",
        " (u'quite', 204),\n",
        " (u'is', 189),\n",
        " (u'Top', 182),\n",
        " (u'very', 169),\n",
        " (u'that', 152),\n",
        " (u'nose', 150),\n",
        " (u'touch', 146),\n",
        " (u'for', 145)]"
       ]
      }
     ],
     "prompt_number": 15
    },
    {
     "cell_type": "markdown",
     "metadata": {},
     "source": [
      "### Stemming\n",
      "\n",
      "What:  Reduce a word to its base/stem/root form\n",
      "\n",
      "Why:   Often makes sense to treat multiple word forms the same way\n",
      "\n",
      "Notes: \n",
      "* Uses a \"simple\" and fast rule-based approach\n",
      "* Output can be undesirable for irregular words\n",
      "* Stemmed words are usually not shown to users (used for analysis/indexing)\n",
      "* Some search engines treat words with the same stem as synonyms"
     ]
    },
    {
     "cell_type": "code",
     "collapsed": false,
     "input": [
      "from nltk import stem"
     ],
     "language": "python",
     "metadata": {},
     "outputs": [],
     "prompt_number": 16
    },
    {
     "cell_type": "code",
     "collapsed": false,
     "input": [
      "stem."
     ],
     "language": "python",
     "metadata": {},
     "outputs": []
    },
    {
     "cell_type": "code",
     "collapsed": false,
     "input": [
      "stemmer = stem.SnowballStemmer('english')\n",
      "\n",
      "# example stemming\n",
      "print stemmer.stem('charge')\n",
      "print stemmer.stem('charging')\n",
      "print stemmer.stem('charged')"
     ],
     "language": "python",
     "metadata": {},
     "outputs": [
      {
       "output_type": "stream",
       "stream": "stdout",
       "text": [
        "charg\n",
        "charg\n",
        "charg\n"
       ]
      }
     ],
     "prompt_number": 17
    },
    {
     "cell_type": "code",
     "collapsed": false,
     "input": [
      "# stem the tokens\n",
      "stemmed_tokens = [stemmer.stem(t) for t in clean_tokens]\n",
      "stemmed_tokens[:10]"
     ],
     "language": "python",
     "metadata": {},
     "outputs": [
      {
       "metadata": {},
       "output_type": "pyout",
       "prompt_number": 18,
       "text": [
        "[u'love',\n",
        " u'delic',\n",
        " u'fragrant',\n",
        " u'rhone',\n",
        " u'wine',\n",
        " u'polish',\n",
        " u'leather',\n",
        " u'and',\n",
        " u'strawberri',\n",
        " u'perhap']"
       ]
      }
     ],
     "prompt_number": 18
    },
    {
     "cell_type": "markdown",
     "metadata": {},
     "source": [
      "### Lemmatization\n",
      "\n",
      "What:  Derive the canonical form ('lemma') of a word\n",
      "\n",
      "Why:   Can be better than stemming\n",
      "\n",
      "Notes: Uses a dictionary-based approach (slower than stemming)\n"
     ]
    },
    {
     "cell_type": "code",
     "collapsed": false,
     "input": [
      "lemmatizer = stem.WordNetLemmatizer()\n",
      "\n",
      "# example stemming\n",
      "print lemmatizer.lemmatize('charges')\n",
      "print lemmatizer.lemmatize('charging')\n",
      "print lemmatizer.lemmatize('lovingly')"
     ],
     "language": "python",
     "metadata": {},
     "outputs": [
      {
       "output_type": "stream",
       "stream": "stdout",
       "text": [
        "charge\n",
        "charging\n",
        "lovingly\n"
       ]
      }
     ],
     "prompt_number": 24
    },
    {
     "cell_type": "code",
     "collapsed": false,
     "input": [
      "# stem the tokens\n",
      "stemmed_tokens = [lemmatizer.lemmatize(t) for t in clean_tokens]\n",
      "stemmed_tokens[:10]"
     ],
     "language": "python",
     "metadata": {},
     "outputs": [
      {
       "metadata": {},
       "output_type": "pyout",
       "prompt_number": 20,
       "text": [
        "[u'Lovely',\n",
        " u'delicate',\n",
        " u'fragrant',\n",
        " u'Rhone',\n",
        " u'wine',\n",
        " u'Polished',\n",
        " u'leather',\n",
        " u'and',\n",
        " u'strawberry',\n",
        " u'Perhaps']"
       ]
      }
     ],
     "prompt_number": 20
    },
    {
     "cell_type": "markdown",
     "metadata": {},
     "source": [
      "### Stopword Removal\n",
      "\n",
      "What:  Remove common words that will likely appear in any text\n",
      "\n",
      "Why:   They don't tell you much about your text"
     ]
    },
    {
     "cell_type": "code",
     "collapsed": false,
     "input": [
      "# view the list of stopwords\n",
      "stopwords = nltk.corpus.stopwords.words('english')\n",
      "sorted(stopwords)[:10]"
     ],
     "language": "python",
     "metadata": {},
     "outputs": [
      {
       "metadata": {},
       "output_type": "pyout",
       "prompt_number": 21,
       "text": [
        "[u'a',\n",
        " u'about',\n",
        " u'above',\n",
        " u'after',\n",
        " u'again',\n",
        " u'against',\n",
        " u'all',\n",
        " u'am',\n",
        " u'an',\n",
        " u'and']"
       ]
      }
     ],
     "prompt_number": 21
    },
    {
     "cell_type": "code",
     "collapsed": false,
     "input": [
      "# stem the stopwords\n",
      "stemmed_stops = [stemmer.stem(t) for t in stopwords]"
     ],
     "language": "python",
     "metadata": {},
     "outputs": [],
     "prompt_number": 25
    },
    {
     "cell_type": "code",
     "collapsed": false,
     "input": [
      "# remove stopwords from stemmed tokens\n",
      "stemmed_tokens_no_stop = [stemmer.stem(t) for t in stemmed_tokens if stemmer.stem(t) not in stopwords]"
     ],
     "language": "python",
     "metadata": {},
     "outputs": [],
     "prompt_number": 26
    },
    {
     "cell_type": "code",
     "collapsed": false,
     "input": [
      "# Let's look at word frequency\n",
      "from collections import Counter\n",
      "\n",
      "c = Counter(stemmed_tokens_no_stop)\n",
      "c.most_common(25) "
     ],
     "language": "python",
     "metadata": {},
     "outputs": [
      {
       "metadata": {},
       "output_type": "pyout",
       "prompt_number": 27,
       "text": [
        "[(u'veri', 380),\n",
        " (u'good', 363),\n",
        " (u'fruit', 306),\n",
        " (u'quit', 303),\n",
        " (u'wine', 286),\n",
        " (u'bit', 217),\n",
        " (u'top', 215),\n",
        " (u'nice', 211),\n",
        " (u'love', 168),\n",
        " (u'touch', 163),\n",
        " (u'nose', 151),\n",
        " (u'dri', 147),\n",
        " (u'drink', 144),\n",
        " (u'bare', 141),\n",
        " (u'rather', 133),\n",
        " (u'balanc', 120),\n",
        " (u'palat', 115),\n",
        " (u'rich', 114),\n",
        " (u'fine', 106),\n",
        " (u'seem', 100),\n",
        " (u'still', 92),\n",
        " (u'complex', 90),\n",
        " (u'perhap', 88),\n",
        " (u\"n't\", 87),\n",
        " (u'bottl', 87)]"
       ]
      }
     ],
     "prompt_number": 27
    },
    {
     "cell_type": "code",
     "collapsed": false,
     "input": [
      "def zipf_plot(text):\n",
      "    '''Creates a log-log plot of word frequency vs word rank.\n",
      "    \"a function to process a large text and plot word frequency against word rank using pylab.plot\"\n",
      "\n",
      "    Precondition: 'text' contains a list of words.\n",
      "    '''\n",
      "    fdist = nltk.FreqDist(text)\n",
      "    \n",
      "    # figured out pylab.plot syntax, sadly, from random googling\n",
      "    plt.plot(\n",
      "            range(1, fdist.B() + 1),      # x-axis: word rank\n",
      "            fdist.values()                # y-axis: word count\n",
      "            )   \n",
      "    plt.xscale('log')\n",
      "    plt.yscale('log')"
     ],
     "language": "python",
     "metadata": {},
     "outputs": [],
     "prompt_number": 28
    },
    {
     "cell_type": "code",
     "collapsed": false,
     "input": [
      "nltk.FreqDist(stemmed_tokens_no_stop)"
     ],
     "language": "python",
     "metadata": {},
     "outputs": [
      {
       "metadata": {},
       "output_type": "pyout",
       "prompt_number": 29,
       "text": [
        "FreqDist({u'veri': 380, u'good': 363, u'fruit': 306, u'quit': 303, u'wine': 286, u'bit': 217, u'top': 215, u'nice': 211, u'love': 168, u'touch': 163, ...})"
       ]
      }
     ],
     "prompt_number": 29
    },
    {
     "cell_type": "code",
     "collapsed": false,
     "input": [
      "zipf_plot(stemmed_tokens_no_stop)"
     ],
     "language": "python",
     "metadata": {},
     "outputs": [
      {
       "metadata": {},
       "output_type": "display_data",
       "png": "[encoded data removed]",
       "text": [
        "<matplotlib.figure.Figure at 0x109d207d0>"
       ]
      }
     ],
     "prompt_number": 30
    },
    {
     "cell_type": "markdown",
     "metadata": {},
     "source": [
      "## Classify Names as Male or Female"
     ]
    },
    {
     "cell_type": "code",
     "collapsed": false,
     "input": [
      "from nltk.corpus import names\n",
      "import random"
     ],
     "language": "python",
     "metadata": {},
     "outputs": [],
     "prompt_number": 31
    },
    {
     "cell_type": "code",
     "collapsed": false,
     "input": [
      "names.fileids()"
     ],
     "language": "python",
     "metadata": {},
     "outputs": [
      {
       "metadata": {},
       "output_type": "pyout",
       "prompt_number": 32,
       "text": [
        "[u'female.txt', u'male.txt']"
       ]
      }
     ],
     "prompt_number": 32
    },
    {
     "cell_type": "code",
     "collapsed": false,
     "input": [
      "names.words('male.txt')[:10]"
     ],
     "language": "python",
     "metadata": {},
     "outputs": [
      {
       "metadata": {},
       "output_type": "pyout",
       "prompt_number": 33,
       "text": [
        "[u'Aamir',\n",
        " u'Aaron',\n",
        " u'Abbey',\n",
        " u'Abbie',\n",
        " u'Abbot',\n",
        " u'Abbott',\n",
        " u'Abby',\n",
        " u'Abdel',\n",
        " u'Abdul',\n",
        " u'Abdulkarim']"
       ]
      }
     ],
     "prompt_number": 33
    },
    {
     "cell_type": "code",
     "collapsed": false,
     "input": [
      "names.words('female.txt')[:10]"
     ],
     "language": "python",
     "metadata": {},
     "outputs": [
      {
       "metadata": {},
       "output_type": "pyout",
       "prompt_number": 34,
       "text": [
        "[u'Abagael',\n",
        " u'Abagail',\n",
        " u'Abbe',\n",
        " u'Abbey',\n",
        " u'Abbi',\n",
        " u'Abbie',\n",
        " u'Abby',\n",
        " u'Abigael',\n",
        " u'Abigail',\n",
        " u'Abigale']"
       ]
      }
     ],
     "prompt_number": 34
    },
    {
     "cell_type": "code",
     "collapsed": false,
     "input": [
      "names_data = [(name, 'male') for name in names.words('male.txt')] + [(name, 'female') for name in names.words('female.txt')] "
     ],
     "language": "python",
     "metadata": {},
     "outputs": [],
     "prompt_number": 35
    },
    {
     "cell_type": "code",
     "collapsed": false,
     "input": [
      "names_data[:10]"
     ],
     "language": "python",
     "metadata": {},
     "outputs": [
      {
       "metadata": {},
       "output_type": "pyout",
       "prompt_number": 36,
       "text": [
        "[(u'Aamir', 'male'),\n",
        " (u'Aaron', 'male'),\n",
        " (u'Abbey', 'male'),\n",
        " (u'Abbie', 'male'),\n",
        " (u'Abbot', 'male'),\n",
        " (u'Abbott', 'male'),\n",
        " (u'Abby', 'male'),\n",
        " (u'Abdel', 'male'),\n",
        " (u'Abdul', 'male'),\n",
        " (u'Abdulkarim', 'male')]"
       ]
      }
     ],
     "prompt_number": 36
    },
    {
     "cell_type": "code",
     "collapsed": false,
     "input": [
      "random.shuffle(names_data)"
     ],
     "language": "python",
     "metadata": {},
     "outputs": [],
     "prompt_number": 37
    },
    {
     "cell_type": "code",
     "collapsed": false,
     "input": [
      "names_data[:10]"
     ],
     "language": "python",
     "metadata": {},
     "outputs": [
      {
       "metadata": {},
       "output_type": "pyout",
       "prompt_number": 38,
       "text": [
        "[(u'Georgia', 'male'),\n",
        " (u'Kaitlin', 'female'),\n",
        " (u'Muffin', 'male'),\n",
        " (u'Ruthanne', 'female'),\n",
        " (u'Doti', 'female'),\n",
        " (u'Mireielle', 'female'),\n",
        " (u'Nathanael', 'male'),\n",
        " (u'Carmelle', 'female'),\n",
        " (u'Mirelle', 'female'),\n",
        " (u'Carole', 'female')]"
       ]
      }
     ],
     "prompt_number": 38
    },
    {
     "cell_type": "code",
     "collapsed": false,
     "input": [
      "def gender_features(word):\n",
      "    features = {}\n",
      "    features['last_letter'] = word[-1]\n",
      "#     features['first_letter'] = word[0]\n",
      "#     features['length'] = len(word)\n",
      "    return features"
     ],
     "language": "python",
     "metadata": {},
     "outputs": [],
     "prompt_number": 47
    },
    {
     "cell_type": "code",
     "collapsed": false,
     "input": [
      "gender_features('Ricky')"
     ],
     "language": "python",
     "metadata": {},
     "outputs": [
      {
       "metadata": {},
       "output_type": "pyout",
       "prompt_number": 48,
       "text": [
        "{'last_letter': 'y'}"
       ]
      }
     ],
     "prompt_number": 48
    },
    {
     "cell_type": "code",
     "collapsed": false,
     "input": [
      "from nltk.classify import apply_features"
     ],
     "language": "python",
     "metadata": {},
     "outputs": [],
     "prompt_number": 49
    },
    {
     "cell_type": "code",
     "collapsed": false,
     "input": [
      "train_set = apply_features(gender_features, names_data[200:])"
     ],
     "language": "python",
     "metadata": {},
     "outputs": [],
     "prompt_number": 50
    },
    {
     "cell_type": "code",
     "collapsed": false,
     "input": [
      "test_set = apply_features(gender_features, names_data[:200])"
     ],
     "language": "python",
     "metadata": {},
     "outputs": [],
     "prompt_number": 51
    },
    {
     "cell_type": "code",
     "collapsed": false,
     "input": [
      "train_set"
     ],
     "language": "python",
     "metadata": {},
     "outputs": [
      {
       "metadata": {},
       "output_type": "pyout",
       "prompt_number": 52,
       "text": [
        "[({'last_letter': u'e'}, 'male'), ({'last_letter': u'e'}, 'female'), ...]"
       ]
      }
     ],
     "prompt_number": 52
    },
    {
     "cell_type": "code",
     "collapsed": false,
     "input": [
      "clf = nltk.NaiveBayesClassifier.train(train_set)"
     ],
     "language": "python",
     "metadata": {},
     "outputs": [],
     "prompt_number": 53
    },
    {
     "cell_type": "code",
     "collapsed": false,
     "input": [
      "# Score the Accuracy of the names classifier we built\n",
      "nltk.classify.accuracy(clf, test_set)"
     ],
     "language": "python",
     "metadata": {},
     "outputs": [
      {
       "metadata": {},
       "output_type": "pyout",
       "prompt_number": 54,
       "text": [
        "0.805"
       ]
      }
     ],
     "prompt_number": 54
    },
    {
     "cell_type": "code",
     "collapsed": false,
     "input": [
      "clf.classify(gender_features('Ricky'))"
     ],
     "language": "python",
     "metadata": {},
     "outputs": [
      {
       "metadata": {},
       "output_type": "pyout",
       "prompt_number": 62,
       "text": [
        "'female'"
       ]
      }
     ],
     "prompt_number": 62
    },
    {
     "cell_type": "code",
     "collapsed": false,
     "input": [
      "clf.show_most_informative_features(20)"
     ],
     "language": "python",
     "metadata": {},
     "outputs": [
      {
       "output_type": "stream",
       "stream": "stdout",
       "text": [
        "Most Informative Features\n",
        "             last_letter = u'a'           female : male   =     35.7 : 1.0\n",
        "             last_letter = u'k'             male : female =     32.8 : 1.0\n",
        "             last_letter = u'f'             male : female =     17.3 : 1.0\n",
        "             last_letter = u'p'             male : female =     11.9 : 1.0\n",
        "             last_letter = u'v'             male : female =     11.2 : 1.0\n",
        "             last_letter = u'd'             male : female =      9.8 : 1.0\n",
        "             last_letter = u'm'             male : female =      8.8 : 1.0\n",
        "             last_letter = u'o'             male : female =      8.3 : 1.0\n",
        "             last_letter = u'r'             male : female =      6.8 : 1.0\n",
        "             last_letter = u'g'             male : female =      5.3 : 1.0\n",
        "             last_letter = u'w'             male : female =      4.8 : 1.0\n",
        "             last_letter = u'z'             male : female =      4.3 : 1.0\n",
        "             last_letter = u's'             male : female =      4.2 : 1.0\n",
        "             last_letter = u'j'             male : female =      4.0 : 1.0\n",
        "             last_letter = u'b'             male : female =      3.8 : 1.0\n",
        "             last_letter = u't'             male : female =      3.8 : 1.0\n",
        "             last_letter = u'i'           female : male   =      3.7 : 1.0\n",
        "             last_letter = u'u'             male : female =      3.3 : 1.0\n",
        "             last_letter = u'n'             male : female =      2.1 : 1.0\n",
        "             last_letter = u'e'           female : male   =      1.8 : 1.0\n"
       ]
      }
     ],
     "prompt_number": 63
    },
    {
     "cell_type": "markdown",
     "metadata": {},
     "source": [
      "## Movie Reviews"
     ]
    },
    {
     "cell_type": "code",
     "collapsed": false,
     "input": [
      "!ls"
     ],
     "language": "python",
     "metadata": {},
     "outputs": [
      {
       "output_type": "stream",
       "stream": "stdout",
       "text": [
        "nltk-lab.ipynb\r\n"
       ]
      }
     ],
     "prompt_number": 64
    },
    {
     "cell_type": "code",
     "collapsed": false,
     "input": [
      "# Let's classify Movie Reviews\n",
      "df = pd.read_csv('../data/movie-reviews-dataset.tsv', sep='\\t', names=['rating', 'review'])"
     ],
     "language": "python",
     "metadata": {},
     "outputs": [],
     "prompt_number": 65
    },
    {
     "cell_type": "code",
     "collapsed": false,
     "input": [
      "df.head()"
     ],
     "language": "python",
     "metadata": {},
     "outputs": [
      {
       "html": [
        "<div style=\"max-height:1000px;max-width:1500px;overflow:auto;\">\n",
        "<table border=\"1\" class=\"dataframe\">\n",
        "  <thead>\n",
        "    <tr style=\"text-align: right;\">\n",
        "      <th></th>\n",
        "      <th>rating</th>\n",
        "      <th>review</th>\n",
        "    </tr>\n",
        "  </thead>\n",
        "  <tbody>\n",
        "    <tr>\n",
        "      <th>0</th>\n",
        "      <td> negative</td>\n",
        "      <td>                 simplistic , silly and tedious . </td>\n",
        "    </tr>\n",
        "    <tr>\n",
        "      <th>1</th>\n",
        "      <td> negative</td>\n",
        "      <td> it's so laddish and juvenile , only teenage bo...</td>\n",
        "    </tr>\n",
        "    <tr>\n",
        "      <th>2</th>\n",
        "      <td> negative</td>\n",
        "      <td>       a sentimental mess that never rings true . </td>\n",
        "    </tr>\n",
        "    <tr>\n",
        "      <th>3</th>\n",
        "      <td> negative</td>\n",
        "      <td> completely awful iranian drama . . . as much f...</td>\n",
        "    </tr>\n",
        "    <tr>\n",
        "      <th>4</th>\n",
        "      <td> negative</td>\n",
        "      <td>  \" analyze that \" is one of those crass , cont...</td>\n",
        "    </tr>\n",
        "  </tbody>\n",
        "</table>\n",
        "</div>"
       ],
       "metadata": {},
       "output_type": "pyout",
       "prompt_number": 66,
       "text": [
        "     rating                                             review\n",
        "0  negative                  simplistic , silly and tedious . \n",
        "1  negative  it's so laddish and juvenile , only teenage bo...\n",
        "2  negative        a sentimental mess that never rings true . \n",
        "3  negative  completely awful iranian drama . . . as much f...\n",
        "4  negative   \" analyze that \" is one of those crass , cont..."
       ]
      }
     ],
     "prompt_number": 66
    },
    {
     "cell_type": "code",
     "collapsed": false,
     "input": [
      "df.values[0][0]"
     ],
     "language": "python",
     "metadata": {},
     "outputs": [
      {
       "metadata": {},
       "output_type": "pyout",
       "prompt_number": 67,
       "text": [
        "'negative'"
       ]
      }
     ],
     "prompt_number": 67
    },
    {
     "cell_type": "code",
     "collapsed": false,
     "input": [
      "import re\n",
      "\n",
      "def stem_review(category, text):\n",
      "    # Let's use Porter Stemmer, but you can use Snowball Stemmer or Lammatizer\n",
      "    stemmer = stem.PorterStemmer()\n",
      "    stopwords = nltk.corpus.stopwords.words('english')\n",
      "\n",
      "    # Tokenize the words\n",
      "    words = tokenize.word_tokenize(text)\n",
      "    words = [token for token in words if re.search(r'^[a-zA-Z]+', token)]\n",
      "    \n",
      "    # Stem the words\n",
      "    stem_words = [stemmer.stem(word) for word in words if word not in stopwords]\n",
      "    return (stem_words, category)"
     ],
     "language": "python",
     "metadata": {},
     "outputs": [],
     "prompt_number": 68
    },
    {
     "cell_type": "code",
     "collapsed": false,
     "input": [
      "stem_review('negative', 'simplistic , silly and tedious .')"
     ],
     "language": "python",
     "metadata": {},
     "outputs": [
      {
       "metadata": {},
       "output_type": "pyout",
       "prompt_number": 69,
       "text": [
        "([u'simplist', u'silli', u'tediou'], 'negative')"
       ]
      }
     ],
     "prompt_number": 69
    },
    {
     "cell_type": "code",
     "collapsed": false,
     "input": [
      "documents = []\n",
      "for cat, review in df.values:\n",
      "    review = unicode(review, 'utf8')\n",
      "    review.encode('utf8','ignore')\n",
      "    documents.append(stem_review(cat, review))"
     ],
     "language": "python",
     "metadata": {},
     "outputs": [],
     "prompt_number": 70
    },
    {
     "cell_type": "code",
     "collapsed": false,
     "input": [
      "documents[0:4]"
     ],
     "language": "python",
     "metadata": {},
     "outputs": [
      {
       "metadata": {},
       "output_type": "pyout",
       "prompt_number": 71,
       "text": [
        "[([u'simplist', u'silli', u'tediou'], 'negative'),\n",
        " ([u'laddish',\n",
        "   u'juvenil',\n",
        "   u'teenag',\n",
        "   u'boy',\n",
        "   u'could',\n",
        "   u'possibl',\n",
        "   u'find',\n",
        "   u'funni'],\n",
        "  'negative'),\n",
        " ([u'sentiment', u'mess', u'never', u'ring', u'true'], 'negative'),\n",
        " ([u'complet',\n",
        "   u'aw',\n",
        "   u'iranian',\n",
        "   u'drama',\n",
        "   u'much',\n",
        "   u'fun',\n",
        "   u'grouchi',\n",
        "   u'ayatollah',\n",
        "   u'cold',\n",
        "   u'mosqu'],\n",
        "  'negative')]"
       ]
      }
     ],
     "prompt_number": 71
    },
    {
     "cell_type": "code",
     "collapsed": false,
     "input": [
      "# Number of Reviews\n",
      "len(documents)"
     ],
     "language": "python",
     "metadata": {},
     "outputs": [
      {
       "metadata": {},
       "output_type": "pyout",
       "prompt_number": 72,
       "text": [
        "10662"
       ]
      }
     ],
     "prompt_number": 72
    },
    {
     "cell_type": "code",
     "collapsed": false,
     "input": [
      "# Function to convert document words into \"Feature\" Dictionary required by NLTK Classifier\n",
      "def document_features(document_words): # [_document-classify-extractor]\n",
      "    features = {}\n",
      "    for word in document_words:\n",
      "        features[word] = True\n",
      "    return features"
     ],
     "language": "python",
     "metadata": {},
     "outputs": [],
     "prompt_number": 73
    },
    {
     "cell_type": "code",
     "collapsed": false,
     "input": [
      "document_features([u'simplistic', u'tedious'])"
     ],
     "language": "python",
     "metadata": {},
     "outputs": [
      {
       "metadata": {},
       "output_type": "pyout",
       "prompt_number": 74,
       "text": [
        "{u'simplistic': True, u'tedious': True}"
       ]
      }
     ],
     "prompt_number": 74
    },
    {
     "cell_type": "code",
     "collapsed": false,
     "input": [
      "featuresets = [(document_features(d), c) for (d,c) in documents]"
     ],
     "language": "python",
     "metadata": {},
     "outputs": [],
     "prompt_number": 75
    },
    {
     "cell_type": "code",
     "collapsed": false,
     "input": [
      "featuresets[0]"
     ],
     "language": "python",
     "metadata": {},
     "outputs": [
      {
       "metadata": {},
       "output_type": "pyout",
       "prompt_number": 76,
       "text": [
        "({u'silli': True, u'simplist': True, u'tediou': True}, 'negative')"
       ]
      }
     ],
     "prompt_number": 76
    },
    {
     "cell_type": "code",
     "collapsed": false,
     "input": [
      "# Shuffle the data before doing the training\n",
      "random.shuffle(featuresets)\n",
      "\n",
      "train_set, test_set = featuresets[:8000], featuresets[8000:]\n",
      "\n",
      "# Build the NaiveBayes Classifier\n",
      "classifier = nltk.NaiveBayesClassifier.train(train_set)"
     ],
     "language": "python",
     "metadata": {},
     "outputs": [],
     "prompt_number": 77
    },
    {
     "cell_type": "code",
     "collapsed": false,
     "input": [
      "print nltk.classify.accuracy(classifier, test_set) \n",
      "classifier.show_most_informative_features(20)"
     ],
     "language": "python",
     "metadata": {},
     "outputs": [
      {
       "output_type": "stream",
       "stream": "stdout",
       "text": [
        "0.771975957926\n",
        "Most Informative Features\n",
        "                    thin = True           negati : positi =     15.4 : 1.0"
       ]
      },
      {
       "output_type": "stream",
       "stream": "stdout",
       "text": [
        "\n",
        "                  routin = True           negati : positi =     14.8 : 1.0\n",
        "                pretenti = True           negati : positi =     13.2 : 1.0\n",
        "                    bore = True           negati : positi =     12.6 : 1.0\n",
        "                unexpect = True           positi : negati =     12.5 : 1.0\n",
        "                 refresh = True           positi : negati =     12.5 : 1.0\n",
        "                    wast = True           negati : positi =     12.4 : 1.0\n",
        "              friendship = True           positi : negati =     11.8 : 1.0\n",
        "                 tiresom = True           negati : positi =     11.5 : 1.0\n",
        "                 mediocr = True           negati : positi =     10.8 : 1.0\n",
        "                  mesmer = True           positi : negati =     10.5 : 1.0\n",
        "               transcend = True           positi : negati =     10.5 : 1.0\n",
        "                    flat = True           negati : positi =     10.0 : 1.0\n",
        "                 realist = True           positi : negati =      9.8 : 1.0\n",
        "                   bland = True           negati : positi =      9.6 : 1.0\n",
        "                 meander = True           negati : positi =      9.5 : 1.0\n",
        "                mindless = True           negati : positi =      9.5 : 1.0\n",
        "           extraordinari = True           positi : negati =      9.1 : 1.0\n",
        "                  examin = True           positi : negati =      8.9 : 1.0\n",
        "                    joke = True           negati : positi =      8.7 : 1.0\n"
       ]
      }
     ],
     "prompt_number": 78
    },
    {
     "cell_type": "markdown",
     "metadata": {},
     "source": [
      "### Term Frequency - Inverse Document Frequency (TF-IDF)\n",
      "\n",
      "What:  Computes \"relative frequency\" that a word appears in a document compared to its frequency across all documents\n",
      "\n",
      "Why:   More useful than \"term frequency\" for identifying \"important\" words in each document (high frequency in that document, low frequency in other documents)\n",
      "\n",
      "Notes: Used for search engine scoring, text summarization, document clustering\n"
     ]
    },
    {
     "cell_type": "code",
     "collapsed": false,
     "input": [
      "categories = []\n",
      "reviews = []\n",
      "for words, cat in documents:\n",
      "    reviews.append(' '.join(words))\n",
      "    categories.append(cat)"
     ],
     "language": "python",
     "metadata": {},
     "outputs": [],
     "prompt_number": 79
    },
    {
     "cell_type": "code",
     "collapsed": false,
     "input": [
      "from sklearn.feature_extraction.text import TfidfVectorizer, CountVectorizer\n",
      "from sklearn.preprocessing import LabelEncoder\n",
      "\n",
      "tfidf = TfidfVectorizer()\n",
      "X = tfidf.fit_transform(reviews).toarray()\n",
      "lbl = LabelEncoder()\n",
      "y = lbl.fit_transform(categories)\n",
      "tfidf.get_feature_names()[-10:]"
     ],
     "language": "python",
     "metadata": {},
     "outputs": [
      {
       "metadata": {},
       "output_type": "pyout",
       "prompt_number": 80,
       "text": [
        "[u'ziyi',\n",
        " u'zoe',\n",
        " u'zombi',\n",
        " u'zombie',\n",
        " u'zone',\n",
        " u'zooland',\n",
        " u'zoom',\n",
        " u'zucker',\n",
        " u'zwick',\n",
        " u'zzzzzzzzz']"
       ]
      }
     ],
     "prompt_number": 80
    },
    {
     "cell_type": "code",
     "collapsed": false,
     "input": [
      "X"
     ],
     "language": "python",
     "metadata": {},
     "outputs": [
      {
       "metadata": {},
       "output_type": "pyout",
       "prompt_number": 81,
       "text": [
        "array([[ 0.,  0.,  0., ...,  0.,  0.,  0.],\n",
        "       [ 0.,  0.,  0., ...,  0.,  0.,  0.],\n",
        "       [ 0.,  0.,  0., ...,  0.,  0.,  0.],\n",
        "       ..., \n",
        "       [ 0.,  0.,  0., ...,  0.,  0.,  0.],\n",
        "       [ 0.,  0.,  0., ...,  0.,  0.,  0.],\n",
        "       [ 0.,  0.,  0., ...,  0.,  0.,  0.]])"
       ]
      }
     ],
     "prompt_number": 81
    },
    {
     "cell_type": "code",
     "collapsed": false,
     "input": [
      "from sklearn.naive_bayes import GaussianNB\n",
      "from sklearn.cross_validation import train_test_split\n",
      "\n",
      "X_train, X_test, y_train, y_test = train_test_split(X, y)\n",
      "\n",
      "sk_clf = GaussianNB()\n",
      "sk_clf.fit(X_train, y_train)"
     ],
     "language": "python",
     "metadata": {},
     "outputs": [
      {
       "metadata": {},
       "output_type": "pyout",
       "prompt_number": 82,
       "text": [
        "GaussianNB()"
       ]
      }
     ],
     "prompt_number": 82
    },
    {
     "cell_type": "code",
     "collapsed": false,
     "input": [
      "sk_clf.score(X_test, y_test)"
     ],
     "language": "python",
     "metadata": {},
     "outputs": [
      {
       "metadata": {},
       "output_type": "pyout",
       "prompt_number": 83,
       "text": [
        "0.64891222805701421"
       ]
      }
     ],
     "prompt_number": 83
    },
    {
     "cell_type": "markdown",
     "metadata": {},
     "source": [
      "## Your Turn - Build a Classifier to identify Spam from Ham\n",
      "\n",
      "* Use Dataset in labs/data/SpamCollection.tsv"
     ]
    },
    {
     "cell_type": "code",
     "collapsed": false,
     "input": [
      "# Let's classify emails\n",
      "df = pd.read_csv('../data/SpamCollection.tsv', sep='\\t', names=['mail_type', 'text'])"
     ],
     "language": "python",
     "metadata": {},
     "outputs": [],
     "prompt_number": 84
    },
    {
     "cell_type": "code",
     "collapsed": false,
     "input": [
      "df.head()"
     ],
     "language": "python",
     "metadata": {},
     "outputs": [
      {
       "html": [
        "<div style=\"max-height:1000px;max-width:1500px;overflow:auto;\">\n",
        "<table border=\"1\" class=\"dataframe\">\n",
        "  <thead>\n",
        "    <tr style=\"text-align: right;\">\n",
        "      <th></th>\n",
        "      <th>mail_type</th>\n",
        "      <th>text</th>\n",
        "    </tr>\n",
        "  </thead>\n",
        "  <tbody>\n",
        "    <tr>\n",
        "      <th>0</th>\n",
        "      <td>  ham</td>\n",
        "      <td> Go until jurong point, crazy.. Available only ...</td>\n",
        "    </tr>\n",
        "    <tr>\n",
        "      <th>1</th>\n",
        "      <td>  ham</td>\n",
        "      <td>                     Ok lar... Joking wif u oni...</td>\n",
        "    </tr>\n",
        "    <tr>\n",
        "      <th>2</th>\n",
        "      <td> spam</td>\n",
        "      <td> Free entry in 2 a wkly comp to win FA Cup fina...</td>\n",
        "    </tr>\n",
        "    <tr>\n",
        "      <th>3</th>\n",
        "      <td>  ham</td>\n",
        "      <td> U dun say so early hor... U c already then say...</td>\n",
        "    </tr>\n",
        "    <tr>\n",
        "      <th>4</th>\n",
        "      <td>  ham</td>\n",
        "      <td> Nah I don't think he goes to usf, he lives aro...</td>\n",
        "    </tr>\n",
        "  </tbody>\n",
        "</table>\n",
        "</div>"
       ],
       "metadata": {},
       "output_type": "pyout",
       "prompt_number": 85,
       "text": [
        "  mail_type                                               text\n",
        "0       ham  Go until jurong point, crazy.. Available only ...\n",
        "1       ham                      Ok lar... Joking wif u oni...\n",
        "2      spam  Free entry in 2 a wkly comp to win FA Cup fina...\n",
        "3       ham  U dun say so early hor... U c already then say...\n",
        "4       ham  Nah I don't think he goes to usf, he lives aro..."
       ]
      }
     ],
     "prompt_number": 85
    },
    {
     "cell_type": "code",
     "collapsed": false,
     "input": [
      "documents = []\n",
      "for cat, review in df.values:\n",
      "    review = unicode(review, 'utf8')\n",
      "    review.encode('utf8','ignore')\n",
      "    documents.append(stem_review(cat, review))"
     ],
     "language": "python",
     "metadata": {},
     "outputs": [],
     "prompt_number": 86
    },
    {
     "cell_type": "code",
     "collapsed": false,
     "input": [
      "featuresets = [(document_features(d), c) for (d,c) in documents]"
     ],
     "language": "python",
     "metadata": {},
     "outputs": [],
     "prompt_number": 89
    },
    {
     "cell_type": "code",
     "collapsed": false,
     "input": [
      "len(featuresets)"
     ],
     "language": "python",
     "metadata": {},
     "outputs": [
      {
       "metadata": {},
       "output_type": "pyout",
       "prompt_number": 92,
       "text": [
        "5572"
       ]
      }
     ],
     "prompt_number": 92
    },
    {
     "cell_type": "code",
     "collapsed": false,
     "input": [
      "# Shuffle the data before doing the training\n",
      "random.shuffle(featuresets)\n",
      "\n",
      "train_set, test_set = featuresets[:4000], featuresets[4000:]\n",
      "\n",
      "# Build the NaiveBayes Classifier\n",
      "classifier = nltk.NaiveBayesClassifier.train(train_set)"
     ],
     "language": "python",
     "metadata": {},
     "outputs": [],
     "prompt_number": 93
    },
    {
     "cell_type": "code",
     "collapsed": false,
     "input": [
      "nltk.ConfusionMatrix()"
     ],
     "language": "python",
     "metadata": {},
     "outputs": []
    },
    {
     "cell_type": "code",
     "collapsed": false,
     "input": [
      "print nltk.classify.accuracy(classifier, test_set) \n",
      "classifier.show_most_informative_features(200)"
     ],
     "language": "python",
     "metadata": {},
     "outputs": [
      {
       "output_type": "stream",
       "stream": "stdout",
       "text": [
        "0.935114503817\n",
        "Most Informative Features\n",
        "                    FREE = True             spam : ham    =    302.2 : 1.0"
       ]
      },
      {
       "output_type": "stream",
       "stream": "stdout",
       "text": [
        "\n",
        "                       T = True             spam : ham    =    197.9 : 1.0\n",
        "                   award = True             spam : ham    =    176.1 : 1.0\n",
        "                    STOP = True             spam : ham    =    167.4 : 1.0\n",
        "                     txt = True             spam : ham    =    103.4 : 1.0\n",
        "                  servic = True             spam : ham    =     88.5 : 1.0\n",
        "                 voucher = True             spam : ham    =     84.8 : 1.0\n",
        "                    Text = True             spam : ham    =     84.8 : 1.0\n",
        "                     Txt = True             spam : ham    =     83.3 : 1.0\n",
        "                  custom = True             spam : ham    =     69.1 : 1.0\n",
        "                   await = True             spam : ham    =     67.4 : 1.0\n",
        "                    Free = True             spam : ham    =     64.3 : 1.0\n",
        "                    land = True             spam : ham    =     63.1 : 1.0\n",
        "                   Mobil = True             spam : ham    =     61.3 : 1.0\n",
        "                deliveri = True             spam : ham    =     58.7 : 1.0\n",
        "                   video = True             spam : ham    =     54.4 : 1.0\n",
        "                 network = True             spam : ham    =     53.5 : 1.0\n",
        "                 landlin = True             spam : ham    =     50.9 : 1.0\n",
        "                     Win = True             spam : ham    =     50.0 : 1.0\n",
        "                      To = True             spam : ham    =     48.7 : 1.0\n",
        "                    draw = True             spam : ham    =     47.5 : 1.0\n",
        "                 attempt = True             spam : ham    =     45.7 : 1.0\n",
        "                    Call = True             spam : ham    =     45.2 : 1.0\n",
        "                  select = True             spam : ham    =     43.8 : 1.0\n",
        "                  camera = True             spam : ham    =     43.0 : 1.0\n",
        "                    rate = True             spam : ham    =     43.0 : 1.0\n",
        "                    CHAT = True             spam : ham    =     41.3 : 1.0\n",
        "                    code = True             spam : ham    =     41.3 : 1.0\n",
        "                    info = True             spam : ham    =     41.3 : 1.0\n",
        "                  latest = True             spam : ham    =     38.2 : 1.0\n",
        "                   appli = True             spam : ham    =     38.2 : 1.0\n",
        "                 auction = True             spam : ham    =     37.0 : 1.0\n",
        "                  direct = True             spam : ham    =     37.0 : 1.0\n",
        "                   mobil = True             spam : ham    =     36.8 : 1.0\n",
        "                     NOW = True             spam : ham    =     33.8 : 1.0\n",
        "                   Phone = True             spam : ham    =     32.6 : 1.0\n",
        "                     TXT = True             spam : ham    =     32.6 : 1.0\n",
        "                 collect = True             spam : ham    =     29.6 : 1.0\n",
        "                  receiv = True             spam : ham    =     29.1 : 1.0\n",
        "                    line = True             spam : ham    =     28.6 : 1.0\n",
        "                   Doubl = True             spam : ham    =     28.3 : 1.0\n",
        "                  txting = True             spam : ham    =     28.3 : 1.0\n",
        "                   pound = True             spam : ham    =     27.0 : 1.0\n",
        "                 contact = True             spam : ham    =     25.8 : 1.0\n",
        "                 Account = True             spam : ham    =     24.8 : 1.0\n",
        "                   Repli = True             spam : ham    =     23.9 : 1.0\n",
        "                    Play = True             spam : ham    =     23.9 : 1.0\n",
        "                    FRND = True             spam : ham    =     23.9 : 1.0\n",
        "                    club = True             spam : ham    =     23.9 : 1.0\n",
        "                     sex = True             spam : ham    =     23.9 : 1.0\n",
        "                  colour = True             spam : ham    =     23.3 : 1.0\n",
        "                    Stop = True             spam : ham    =     22.2 : 1.0\n",
        "                   match = True             spam : ham    =     22.2 : 1.0\n",
        "                  follow = True             spam : ham    =     22.2 : 1.0\n",
        "                       C = True             spam : ham    =     20.2 : 1.0\n",
        "                      U. = True             spam : ham    =     19.6 : 1.0\n",
        "                 content = True             spam : ham    =     19.6 : 1.0\n",
        "                      wk = True             spam : ham    =     19.6 : 1.0\n",
        "                    Want = True             spam : ham    =     19.6 : 1.0\n",
        "                   Fanci = True             spam : ham    =     19.6 : 1.0\n",
        "                    cash = True             spam : ham    =     19.6 : 1.0\n",
        "                  member = True             spam : ham    =     19.6 : 1.0\n",
        "                     Gr8 = True             spam : ham    =     19.6 : 1.0\n",
        "                   Price = True             spam : ham    =     19.6 : 1.0\n",
        "                     Had = True             spam : ham    =     19.6 : 1.0\n",
        "                  reveal = True             spam : ham    =     19.6 : 1.0\n",
        "                    Soni = True             spam : ham    =     19.6 : 1.0\n",
        "                  reward = True             spam : ham    =     19.6 : 1.0\n",
        "                  condit = True             spam : ham    =     19.6 : 1.0\n",
        "                     mth = True             spam : ham    =     19.6 : 1.0\n",
        "                      SM = True             spam : ham    =     17.2 : 1.0\n",
        "                    CALL = True             spam : ham    =     17.2 : 1.0\n",
        "                     per = True             spam : ham    =     17.1 : 1.0\n",
        "                    More = True             spam : ham    =     17.0 : 1.0\n",
        "                  Someon = True             spam : ham    =     17.0 : 1.0\n",
        "                     Wan = True             spam : ham    =     17.0 : 1.0\n",
        "                     Xma = True             spam : ham    =     17.0 : 1.0\n",
        "                   charg = True             spam : ham    =     17.0 : 1.0\n",
        "                      UR = True             spam : ham    =     16.6 : 1.0\n",
        "                     Get = True             spam : ham    =     16.5 : 1.0\n",
        "                 Congrat = True             spam : ham    =     15.8 : 1.0\n",
        "                  immedi = True             spam : ham    =     15.2 : 1.0\n",
        "                  origin = True             spam : ham    =     15.2 : 1.0\n",
        "                   STORE = True             spam : ham    =     15.2 : 1.0\n",
        "                     MSG = True             spam : ham    =     15.2 : 1.0\n",
        "                 announc = True             spam : ham    =     15.2 : 1.0\n",
        "                   PHONE = True             spam : ham    =     15.2 : 1.0\n",
        "                     bid = True             spam : ham    =     15.2 : 1.0\n",
        "                     Use = True             spam : ham    =     15.2 : 1.0\n",
        "                   excit = True             spam : ham    =     15.2 : 1.0\n",
        "                   renew = True             spam : ham    =     15.2 : 1.0\n",
        "                   adult = True             spam : ham    =     15.2 : 1.0\n",
        "                  Jordan = True             spam : ham    =     15.2 : 1.0\n",
        "                 Network = True             spam : ham    =     15.2 : 1.0\n",
        "                    Help = True             spam : ham    =     15.2 : 1.0\n",
        "                  credit = True             spam : ham    =     14.6 : 1.0\n",
        "                   nokia = True             spam : ham    =     14.3 : 1.0\n",
        "                    quot = True             spam : ham    =     14.3 : 1.0\n",
        "                     Msg = True             spam : ham    =     14.3 : 1.0\n",
        "                    Your = True             spam : ham    =     14.3 : 1.0\n",
        "                   locat = True             spam : ham    =     14.3 : 1.0\n",
        "                   worth = True             spam : ham    =     14.3 : 1.0\n",
        "                    TEXT = True             spam : ham    =     14.3 : 1.0\n",
        "                    From = True             spam : ham    =     14.0 : 1.0\n",
        "                     win = True             spam : ham    =     12.7 : 1.0\n",
        "                    chat = True             spam : ham    =     12.7 : 1.0\n",
        "                     NEW = True             spam : ham    =     12.5 : 1.0\n",
        "                      yr = True             spam : ham    =     12.5 : 1.0\n",
        "                  Custom = True             spam : ham    =     12.3 : 1.0\n",
        "                    valu = True             spam : ham    =     12.1 : 1.0\n",
        "                   updat = True             spam : ham    =     12.1 : 1.0\n",
        "                   music = True             spam : ham    =     12.1 : 1.0\n",
        "                  Servic = True             spam : ham    =     11.7 : 1.0\n",
        "                  access = True             spam : ham    =     11.7 : 1.0\n",
        "                  Messag = True             spam : ham    =     11.7 : 1.0\n",
        "                  flight = True             spam : ham    =     11.7 : 1.0\n",
        "                    ASAP = True             spam : ham    =     11.7 : 1.0\n",
        "                    home = True              ham : spam   =     11.3 : 1.0\n",
        "                     top = True             spam : ham    =     11.3 : 1.0\n",
        "                   invit = True             spam : ham    =     11.3 : 1.0\n",
        "                    Find = True             spam : ham    =     10.9 : 1.0\n",
        "                    KEEP = True             spam : ham    =     10.9 : 1.0\n",
        "                       Q = True             spam : ham    =     10.9 : 1.0\n",
        "                  commun = True             spam : ham    =     10.9 : 1.0\n",
        "                Children = True             spam : ham    =     10.9 : 1.0\n",
        "                 biggest = True             spam : ham    =     10.9 : 1.0\n",
        "                     gay = True             spam : ham    =     10.9 : 1.0\n",
        "                   truli = True             spam : ham    =     10.9 : 1.0\n",
        "                    grow = True             spam : ham    =     10.9 : 1.0\n",
        "                   uniqu = True             spam : ham    =     10.9 : 1.0\n",
        "                Somebodi = True             spam : ham    =     10.9 : 1.0\n",
        "                   among = True             spam : ham    =     10.9 : 1.0\n",
        "                  profit = True             spam : ham    =     10.9 : 1.0\n",
        "                 fantast = True             spam : ham    =     10.9 : 1.0\n",
        "                  Simpli = True             spam : ham    =     10.9 : 1.0\n",
        "                   sport = True             spam : ham    =     10.9 : 1.0\n",
        "                    user = True             spam : ham    =     10.9 : 1.0\n",
        "                    REAL = True             spam : ham    =     10.9 : 1.0\n",
        "                    rude = True             spam : ham    =     10.9 : 1.0\n",
        "                    DATE = True             spam : ham    =     10.9 : 1.0\n",
        "                    blow = True             spam : ham    =     10.9 : 1.0\n",
        "                    Drop = True             spam : ham    =     10.9 : 1.0\n",
        "                   Deliv = True             spam : ham    =     10.9 : 1.0\n",
        "                   cross = True             spam : ham    =     10.9 : 1.0\n",
        "                contract = True             spam : ham    =     10.9 : 1.0\n",
        "                 shortli = True             spam : ham    =     10.9 : 1.0\n",
        "                    Next = True             spam : ham    =     10.9 : 1.0\n",
        "              membership = True             spam : ham    =     10.9 : 1.0\n",
        "                    Moon = True             spam : ham    =     10.9 : 1.0\n",
        "                    NOTH = True             spam : ham    =     10.9 : 1.0\n",
        "                  privat = True             spam : ham    =     10.9 : 1.0\n",
        "                     SEX = True             spam : ham    =     10.9 : 1.0\n",
        "                   BEFOR = True             spam : ham    =     10.9 : 1.0\n",
        "                  Caller = True             spam : ham    =     10.9 : 1.0\n",
        "                    date = True             spam : ham    =     10.9 : 1.0\n",
        "                     Pic = True             spam : ham    =     10.9 : 1.0\n",
        "                   offer = True             spam : ham    =     10.4 : 1.0\n",
        "                    ONLi = True             spam : ham    =     10.2 : 1.0\n",
        "                    Shop = True             spam : ham    =     10.2 : 1.0\n",
        "                     FOR = True             spam : ham    =     10.2 : 1.0\n",
        "                   arriv = True             spam : ham    =     10.2 : 1.0\n",
        "                    gift = True             spam : ham    =     10.1 : 1.0\n",
        "                   order = True             spam : ham    =     10.0 : 1.0\n",
        "                   chanc = True             spam : ham    =     10.0 : 1.0\n",
        "                   repli = True             spam : ham    =      9.8 : 1.0\n",
        "                     say = True              ham : spam   =      9.6 : 1.0\n",
        "                 current = True             spam : ham    =      9.5 : 1.0\n",
        "                   Guess = True             spam : ham    =      9.4 : 1.0\n",
        "                     got = True              ham : spam   =      9.2 : 1.0\n",
        "                    goto = True             spam : ham    =      9.1 : 1.0\n",
        "                    five = True             spam : ham    =      9.1 : 1.0\n",
        "                    NAME = True             spam : ham    =      9.1 : 1.0\n",
        "                   store = True             spam : ham    =      9.1 : 1.0\n",
        "                  review = True             spam : ham    =      9.1 : 1.0\n",
        "                Tomorrow = True             spam : ham    =      9.1 : 1.0\n",
        "                  urgent = True             spam : ham    =      9.1 : 1.0\n",
        "                     ONE = True             spam : ham    =      9.1 : 1.0\n",
        "                   flirt = True             spam : ham    =      9.1 : 1.0\n",
        "                      So = True              ham : spam   =      9.0 : 1.0\n",
        "                    fone = True             spam : ham    =      8.4 : 1.0\n",
        "                   fanci = True             spam : ham    =      8.4 : 1.0\n",
        "                    term = True             spam : ham    =      8.4 : 1.0\n",
        "                  record = True             spam : ham    =      8.4 : 1.0\n",
        "                    come = True              ham : spam   =      8.1 : 1.0\n",
        "                      u. = True             spam : ham    =      8.0 : 1.0\n",
        "                    area = True             spam : ham    =      8.0 : 1.0\n",
        "                     pic = True             spam : ham    =      7.9 : 1.0\n",
        "                    free = True             spam : ham    =      7.9 : 1.0\n",
        "                   everi = True             spam : ham    =      7.7 : 1.0\n",
        "                  within = True             spam : ham    =      7.7 : 1.0\n",
        "                     hot = True             spam : ham    =      7.7 : 1.0\n",
        "                    text = True             spam : ham    =      7.7 : 1.0\n",
        "                      GO = True             spam : ham    =      7.5 : 1.0\n",
        "                  player = True             spam : ham    =      7.5 : 1.0\n",
        "                  secret = True             spam : ham    =      7.5 : 1.0\n",
        "                   Today = True             spam : ham    =      7.5 : 1.0\n",
        "                     min = True             spam : ham    =      7.4 : 1.0\n",
        "                   enter = True             spam : ham    =      7.4 : 1.0\n",
        "                       I = True              ham : spam   =      7.3 : 1.0\n",
        "                   final = True             spam : ham    =      7.3 : 1.0\n"
       ]
      }
     ],
     "prompt_number": 95
    },
    {
     "cell_type": "code",
     "collapsed": false,
     "input": [],
     "language": "python",
     "metadata": {},
     "outputs": []
    }
   ],
   "metadata": {}
  }
 ]
}